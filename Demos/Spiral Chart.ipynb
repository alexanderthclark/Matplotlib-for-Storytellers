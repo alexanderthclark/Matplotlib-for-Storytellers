{
 "cells": [
  {
   "cell_type": "code",
   "execution_count": 1,
   "metadata": {
    "id": "q8vMeg7kyKYT"
   },
   "outputs": [],
   "source": [
    "import matplotlib.pyplot as plt\n",
    "import numpy as np\n",
    "import math\n",
    "import datetime as dt"
   ]
  },
  {
   "cell_type": "markdown",
   "metadata": {
    "id": "5s0dXJ-6Cwo0"
   },
   "source": [
    "# Data Generation"
   ]
  },
  {
   "cell_type": "code",
   "execution_count": 2,
   "metadata": {
    "colab": {
     "base_uri": "https://localhost:8080/",
     "height": 286
    },
    "id": "Bbo08LKNy2gp",
    "outputId": "b3a5a424-7272-4188-c46a-ed9a1990afc8"
   },
   "outputs": [
    {
     "data": {
      "image/png": "[encoded data removed]",
      "text/plain": [
       "<Figure size 432x288 with 1 Axes>"
      ]
     },
     "metadata": {
      "needs_background": "light"
     },
     "output_type": "display_data"
    }
   ],
   "source": [
    "period = 365\n",
    "b = 2*np.pi / period # multiplier to change period \n",
    "\n",
    "# create time series data\n",
    "days = np.arange(0,365*3)\n",
    "values = (1 + np.cos(np.pi + days * b))**10 + np.array(range(len(days)))\n",
    "dates = np.array([dt.date(2010,1,1) + dt.timedelta(days = int(x)) for x in days])\n",
    "plt.plot(dates, values)\n",
    "\n",
    "for year in range(2010,dates.max().year + 1):\n",
    "    mid = dt.date(year,1,1) + dt.timedelta(days = 182)\n",
    "    plt.axvline(mid)"
   ]
  },
  {
   "cell_type": "code",
   "execution_count": null,
   "metadata": {
    "colab": {
     "base_uri": "https://localhost:8080/",
     "height": 541
    },
    "id": "ee_fiKsKykS1",
    "outputId": "fb4dddf0-d194-4a44-c1d2-6e88065a973e"
   },
   "outputs": [],
   "source": [
    "fig = plt.figure(figsize = (8,8))\n",
    "\n",
    "ax = plt.axes(projection = 'polar')\n",
    "#ax.axis('off')\n",
    "\n",
    "\n",
    "period = 365 # doesn't account for leap years\n",
    "b = 2*np.pi / period # multiplier to change period \n",
    "\n",
    "angles = np.array( [-np.pi/2 + math.radians(((u % 365) *(365/360))) for u in days])\n",
    "radii = np.linspace(1, 50, len(angles))\n",
    "\n",
    "width = values / 300 # width of spiral\n",
    "n = len(angles)\n",
    "\n",
    "# create a color map\n",
    "\n",
    "base_color = (1,1,0)\n",
    "end_color = (1,.15,0)\n",
    "\n",
    "\n",
    "def frac(value, data = values):\n",
    "    val = (value - np.min(data)) / (np.max(data) - np.min(data))\n",
    "    return val\n",
    "    \n",
    "ax.plot(-angles, (radii), color = 'red')\n",
    "\n",
    "for key, day in enumerate(days):\n",
    "\n",
    "    date = dt.date(2010,1,1) + dt.timedelta(days = key)\n",
    "    if date.day == 1: # mark new months\n",
    "      ax.plot((-angles[key], -angles[key]), (radii[key]-.4, radii[key]), color = 'black')\n",
    "\n",
    "    try:\n",
    "    \n",
    "        value = values[key]\n",
    "        t = frac(value)\n",
    "        r = (1-t)*base_color[0] + t*end_color[0]\n",
    "        g = (1-t)*base_color[1] + t*end_color[1]\n",
    "        b = (1-t)*base_color[2] + t*end_color[2]\n",
    "        \n",
    "        color = r,g,b\n",
    "\n",
    "        ax.fill_between(-angles[key:key+2], (radii)[key:key+2], (radii + width)[key:key+2],\n",
    "                       color = color) #, edgecolor = .5*np.array([1,1,1]) + .5*np.array(color))\n",
    "    except IndexError:\n",
    "        pass\n",
    "     \n",
    "ax.set_rticks([]) # radius ticks\n",
    "plt.savefig(\"spiral_chart1.png\", dpi = 500)"
   ]
  },
  {
   "cell_type": "code",
   "execution_count": null,
   "metadata": {
    "id": "0ZRsuKIdLpZ2"
   },
   "outputs": [],
   "source": []
  }
 ],
 "metadata": {
  "colab": {
   "collapsed_sections": [],
   "name": "Spiral Chart",
   "provenance": []
  },
  "kernelspec": {
   "display_name": "Python 3",
   "language": "python",
   "name": "python3"
  },
  "language_info": {
   "codemirror_mode": {
    "name": "ipython",
    "version": 3
   },
   "file_extension": ".py",
   "mimetype": "text/x-python",
   "name": "python",
   "nbconvert_exporter": "python",
   "pygments_lexer": "ipython3",
   "version": "3.7.6"
  }
 },
 "nbformat": 4,
 "nbformat_minor": 1
}
