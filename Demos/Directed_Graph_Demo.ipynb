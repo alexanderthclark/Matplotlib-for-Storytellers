{
  "nbformat": 4,
  "nbformat_minor": 0,
  "metadata": {
    "kernelspec": {
      "display_name": "Python 3",
      "language": "python",
      "name": "python3"
    },
    "language_info": {
      "codemirror_mode": {
        "name": "ipython",
        "version": 3
      },
      "file_extension": ".py",
      "mimetype": "text/x-python",
      "name": "python",
      "nbconvert_exporter": "python",
      "pygments_lexer": "ipython3",
      "version": "3.7.6"
    },
    "colab": {
      "name": "Directed Graph Demo.ipynb",
      "provenance": [],
      "collapsed_sections": []
    }
  },
  "cells": [
    {
      "cell_type": "code",
      "metadata": {
        "id": "U-x3UU43WnUu"
      },
      "source": [
        "import numpy as np\n",
        "import pandas as pd\n",
        "import matplotlib as mpl\n",
        "import matplotlib.pyplot as plt"
      ],
      "execution_count": 6,
      "outputs": []
    },
    {
      "cell_type": "code",
      "metadata": {
        "colab": {
          "base_uri": "https://localhost:8080/"
        },
        "id": "8yiQfmXbmJ6i",
        "outputId": "b202ac62-f09b-4bbd-ed8d-d3ddf6c3ded5"
      },
      "source": [
        "!python -V"
      ],
      "execution_count": 7,
      "outputs": [
        {
          "output_type": "stream",
          "name": "stdout",
          "text": [
            "Python 3.7.12\n"
          ]
        }
      ]
    },
    {
      "cell_type": "code",
      "metadata": {
        "colab": {
          "base_uri": "https://localhost:8080/",
          "height": 35
        },
        "id": "5a8uL3YhmO6u",
        "outputId": "08b8b89a-50df-4c33-eb2a-8616c82386e6"
      },
      "source": [
        "mpl.__version__"
      ],
      "execution_count": 8,
      "outputs": [
        {
          "output_type": "execute_result",
          "data": {
            "application/vnd.google.colaboratory.intrinsic+json": {
              "type": "string"
            },
            "text/plain": [
              "'3.2.2'"
            ]
          },
          "metadata": {},
          "execution_count": 8
        }
      ]
    },
    {
      "cell_type": "markdown",
      "metadata": {
        "id": "SwaLCVZY151U"
      },
      "source": [
        "## Functions"
      ]
    },
    {
      "cell_type": "code",
      "metadata": {
        "id": "oehRB5luXU2G"
      },
      "source": [
        "# from digraph import * "
      ],
      "execution_count": 9,
      "outputs": []
    },
    {
      "cell_type": "code",
      "metadata": {
        "id": "-IxTD947WnU0"
      },
      "source": [
        "# Instead of importing, here are the functions pasted in. \n",
        "def node(center, radius = 'auto', label = '',\n",
        "            ax = None, circleprops = {'facecolor':(.9,.99,.9), 'edgecolor':'black'}):\n",
        "    \"\"\"Plot labeled circle object to represent a node. \n",
        "    Must be called after any changes to axes limits, aspect changes, etc if using radius = 'auto'.\"\"\"\n",
        "    \n",
        "    if ax == None:\n",
        "        ax = plt.gca()\n",
        "    \n",
        "    t = ax.text(center[0], center[1], label, ha = 'center', va = 'center')\n",
        "    if radius == 'auto':\n",
        "        plt.gcf().canvas.draw()\n",
        "        box = t.get_window_extent().transformed(ax.transData.inverted())\n",
        "        width = box.x1 - box.x0\n",
        "        radius = (width/2)*1.2\n",
        "    \n",
        "    c = plt.Circle(center, radius, **circleprops)\n",
        "    ax.add_artist(c)\n",
        "    return c\n",
        "\n",
        "def directed_edge(c1, c2, ax = None, label = '', color = 'C0'):\n",
        "    \"\"\"Draw an arrow from node c1 to node c2.\"\"\"\n",
        "    \n",
        "    if ax == None:\n",
        "        ax = plt.gca()\n",
        "    \n",
        "    center1 = c1.center\n",
        "    center2 = c2.center\n",
        "    \n",
        "    length = np.linalg.norm(np.array(center1) - np.array(center2))\n",
        "\n",
        "    r1 = c1.get_radius()\n",
        "    r2 = c2.get_radius()\n",
        "    \n",
        "    x1, x2 = center1[0], center2[0]\n",
        "    y1, y2 = center1[1], center2[1]\n",
        "\n",
        "    # Find start and end of arrow based on circle radii\n",
        "    # based on linear weights from convex combos\n",
        "    tail_weight = r1 / length\n",
        "    tail_x = (1-tail_weight)*x1 + tail_weight*x2\n",
        "    tail_y = (1-tail_weight)*y1 + tail_weight*y2\n",
        "    tail_point = (tail_x, tail_y)\n",
        "\n",
        "    head_weight = r2/ length    \n",
        "    head_x = (1-head_weight)*x2 + head_weight*x1\n",
        "    head_y = (1-head_weight)*y2 + head_weight*y1\n",
        "    head_point = (head_x, head_y)\n",
        "\n",
        "    ax.annotate('', xy = head_point, xytext = tail_point, \n",
        "            arrowprops = dict(headwidth = 14,\n",
        "                        linewidth = .1,\n",
        "                        width = 2,\n",
        "                        color = color))\n",
        "\n",
        "    if label:\n",
        "        arrow_center = np.mean([head_point, tail_point], axis = 0)\n",
        "        arrow_slope = (head_y - tail_y) / (head_x - tail_x)\n",
        "\n",
        "        ha = 'left' * (arrow_slope > 0) + 'right' * (arrow_slope <= 0)\n",
        "        va = 'center'\n",
        "\n",
        "        ax.text(*arrow_center, label)\n",
        "\n",
        "\n",
        "def get_bbox(ax = None):\n",
        "    \n",
        "    \"\"\"Get the bounding box that contains all nodes/circle objects.\"\"\"\n",
        "    \n",
        "    if ax == None:\n",
        "        ax = plt.gca()\n",
        "    \n",
        "    # node circle objects\n",
        "    circles = [x for x in ax.get_children() if isinstance(x, mpl.patches.Circle)]\n",
        "    \n",
        "    xs, ys = list(), list()\n",
        "\n",
        "    for item in circles:    \n",
        "\n",
        "        bb = item.get_window_extent().transformed(ax.transData.inverted())\n",
        "        xs.append(bb.x0)\n",
        "        xs.append(bb.x1)\n",
        "\n",
        "        ys.append(bb.y0)\n",
        "        ys.append(bb.y1)\n",
        "\n",
        "\n",
        "    ylims = [np.min(ys), np.max(ys)]\n",
        "    xlims = [np.min(xs), np.max(xs)]\n",
        "    \n",
        "    a, b = [xlims[0], ylims[0]], [xlims[1], ylims[1]]\n",
        "    bbox = mpl.transforms.Bbox([a,b])\n",
        "    \n",
        "    return bbox\n",
        "\n",
        "def reset_limits(ax = None, pad = 0.01):\n",
        "    \n",
        "    \"\"\"Reset axes limits according to the peripheral nodes to fit everything in the plot window.\n",
        "    Don't use with automatic radius.\"\"\"\n",
        "\n",
        "    if ax == None:\n",
        "        ax = plt.gca()\n",
        "        \n",
        "    bbox = get_bbox(ax = ax)\n",
        "    \n",
        "    ax.set_xlim(bbox.x0 - pad, bbox.x1 + pad)\n",
        "    ax.set_ylim(bbox.y0 - pad, bbox.y1 + pad)\n"
      ],
      "execution_count": 10,
      "outputs": []
    },
    {
      "cell_type": "markdown",
      "metadata": {
        "id": "nGf5RdD5WnU2"
      },
      "source": [
        "## Examples\n",
        "\n",
        "### Example 1\n",
        "\n",
        "Education is not human capital accumulation."
      ]
    },
    {
      "cell_type": "code",
      "metadata": {
        "colab": {
          "base_uri": "https://localhost:8080/",
          "height": 293
        },
        "id": "W195gOf3WnU5",
        "outputId": "62bfe094-ecf2-48b0-b016-dd3ca3d38c72"
      },
      "source": [
        "fig, ax = plt.subplots()\n",
        "\n",
        "ax.set_aspect(1) # make square plot\n",
        "ax.axis('off')\n",
        "\n",
        "# Make DAG for spurious correlation\n",
        "\n",
        "schooling = node((2,3), radius = 1, label = 'Schooling')\n",
        "wages = node((-2,3), radius = 1, label = 'Wages')\n",
        "ability = node((0,0), radius = 1.2, label = 'Ability') \n",
        "\n",
        "directed_edge(ability, schooling)\n",
        "directed_edge(ability, wages)\n",
        "\n",
        "plt.title(\"Spurious Correlation\\nSignaling Model of Education\", pad = 20)\n",
        "\n",
        "reset_limits()"
      ],
      "execution_count": 11,
      "outputs": [
        {
          "output_type": "display_data",
          "data": {
            "image/png": "[encoded data removed]",
            "text/plain": [
              "<Figure size 432x288 with 1 Axes>"
            ]
          },
          "metadata": {
            "needs_background": "light"
          }
        }
      ]
    },
    {
      "cell_type": "markdown",
      "metadata": {
        "id": "_Dgp1mmr2G4w"
      },
      "source": [
        "### Example 2\n",
        "\n",
        "Being louder makes you more convincing."
      ]
    },
    {
      "cell_type": "code",
      "metadata": {
        "colab": {
          "base_uri": "https://localhost:8080/",
          "height": 248
        },
        "id": "p2QwT07HWnU8",
        "outputId": "49863ae3-a03b-4d53-cdb8-870eeacd5307"
      },
      "source": [
        "fig, ax = plt.subplots()\n",
        "\n",
        "ax.set_aspect(1) # make square plot\n",
        "ax.axis('off')\n",
        "\n",
        "# set limits at before creating nodes with auto radius\n",
        "ax.set_xlim(-3, 3)\n",
        "ax.set_ylim(-1,4.5)\n",
        "\n",
        "canary = (1,.94,.65)\n",
        "circle_props = {'facecolor' : canary, 'edgecolor' : 'black'}\n",
        "\n",
        "persuasiveness = node((0,3), label = 'Persuasiveness', circleprops = circle_props)\n",
        "decibels = node((-2, 0 ), radius = .8, label = 'Decibels', circleprops = circle_props)\n",
        "logic = node((2,0), radius = .8, label = 'Logic', circleprops = circle_props)\n",
        "\n",
        "\n",
        "directed_edge(logic, persuasiveness, color = 'black')\n",
        "directed_edge(decibels, persuasiveness, color = 'black')\n",
        "\n",
        "#get_bbox() # uncomment and run to help update axes limits if necessary"
      ],
      "execution_count": 12,
      "outputs": [
        {
          "output_type": "display_data",
          "data": {
            "image/png": "[encoded data removed]",
            "text/plain": [
              "<Figure size 432x288 with 1 Axes>"
            ]
          },
          "metadata": {
            "needs_background": "light"
          }
        }
      ]
    }
  ]
}