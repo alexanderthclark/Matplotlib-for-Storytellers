{
 "cells": [
  {
   "cell_type": "code",
   "execution_count": 1,
   "id": "597bcff8",
   "metadata": {},
   "outputs": [
    {
     "name": "stdout",
     "output_type": "stream",
     "text": [
      "/Users/alclark/Documents/GitHub/Matplotlib-for-Storytellers/figures/poetryplots\n"
     ]
    }
   ],
   "source": [
    "cd '/Users/alclark/Documents/GitHub/Matplotlib-for-Storytellers/figures/poetryplots' "
   ]
  },
  {
   "cell_type": "code",
   "execution_count": 2,
   "id": "7457f676",
   "metadata": {},
   "outputs": [],
   "source": [
    "import nbformat"
   ]
  },
  {
   "cell_type": "code",
   "execution_count": null,
   "id": "f3e4d5aa",
   "metadata": {
    "code_folding": [
     0
    ]
   },
   "outputs": [],
   "source": [
    "def savepy(filename, source: str = None, cell_no: int = None):\n",
    "    '''\n",
    "    Save python file from string. Assumes the working directory is the root project folder.\n",
    "    '''\n",
    "    filename = filename + '.py'\n",
    "    path = '../../python/'\n",
    "\n",
    "    current_cell = get_ipython().execution_count\n",
    "    \n",
    "    if source is None:\n",
    "        if cell_no is None:\n",
    "            cell_no = current_cell - 2 # - 1 for 0-based -1 again for previous\n",
    "            #raise Exception(\"need source or cell number.\")\n",
    "        # get cell source\n",
    "        tmp = nbformat.read(path + 'Poetry-Figure-Dev.ipynb', as_version=4)\n",
    "        cell = tmp.cells[cell_no]\n",
    "        source = cell['source']\n",
    "        \n",
    "        # truncate source\n",
    "        trunc_word = '#truncate'\n",
    "        if trunc_word in source:\n",
    "            source = source[:source.index(trunc_word)]\n",
    "            \n",
    "        # strip white space\n",
    "        lines = source.splitlines()\n",
    "        for i in range(len(lines)):\n",
    "            lines[i] = lines[i].rstrip()\n",
    "        source = '\\n'.join(lines)\n",
    "        \n",
    "    with open(path + filename, 'w') as f:\n",
    "        f.write(source)"
   ]
  },
  {
   "cell_type": "code",
   "execution_count": null,
   "id": "b8de66b5",
   "metadata": {},
   "outputs": [],
   "source": [
    "# %load ../../python/imports.py\n",
    "import numpy as np\n",
    "import pandas as pd\n",
    "import math\n",
    "from itertools import combinations\n",
    "from itertools import product\n",
    "from sklearn.datasets import load_iris\n",
    "\n",
    "# matplotlib specific\n",
    "import matplotlib as mpl\n",
    "import matplotlib.pyplot as plt\n",
    "\n",
    "# For Special Topics\n",
    "# import ternary # requires install\n",
    "# from ternary.helpers import simplex_iterator\n",
    "from sklearn.manifold import MDS\n",
    "from sklearn.decomposition import PCA\n",
    "from scipy import stats\n",
    "\n",
    "# Made redundant in the text\n",
    "from matplotlib.patches import ConnectionPatch\n",
    "from matplotlib.patches import Rectangle\n",
    "import matplotlib.gridspec as gridspec\n",
    "from matplotlib.ticker import MultipleLocator\n",
    "from matplotlib.colors import colorConverter\n",
    "from mpl_toolkits.mplot3d import Axes3D\n",
    "from mpl_toolkits.mplot3d.art3d import Poly3DCollection\n",
    "import matplotlib.dates as mdates\n",
    "from matplotlib import font_manager"
   ]
  },
  {
   "cell_type": "code",
   "execution_count": null,
   "id": "ceb69843",
   "metadata": {},
   "outputs": [],
   "source": []
  }
 ],
 "metadata": {
  "kernelspec": {
   "display_name": "Python 3 (ipykernel)",
   "language": "python",
   "name": "python3"
  },
  "language_info": {
   "codemirror_mode": {
    "name": "ipython",
    "version": 3
   },
   "file_extension": ".py",
   "mimetype": "text/x-python",
   "name": "python",
   "nbconvert_exporter": "python",
   "pygments_lexer": "ipython3",
   "version": "3.9.13"
  }
 },
 "nbformat": 4,
 "nbformat_minor": 5
}
