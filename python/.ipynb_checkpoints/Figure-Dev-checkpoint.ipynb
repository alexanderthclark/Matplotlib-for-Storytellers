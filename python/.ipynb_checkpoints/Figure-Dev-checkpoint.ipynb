{
 "cells": [
  {
   "cell_type": "code",
   "execution_count": 1,
   "id": "e63ea55f",
   "metadata": {},
   "outputs": [
    {
     "data": {
      "text/plain": [
       "'/Users/alclark/Documents/GitHub/Matplotlib-for-Storytellers/python'"
      ]
     },
     "execution_count": 1,
     "metadata": {},
     "output_type": "execute_result"
    }
   ],
   "source": [
    "pwd"
   ]
  },
  {
   "cell_type": "code",
   "execution_count": 2,
   "id": "d49af545",
   "metadata": {},
   "outputs": [
    {
     "name": "stdout",
     "output_type": "stream",
     "text": [
      "/Users/alclark/Documents/GitHub/Matplotlib-for-Storytellers/figures/proseplots\n"
     ]
    }
   ],
   "source": [
    "cd '/Users/alclark/Documents/GitHub/Matplotlib-for-Storytellers/figures/proseplots' "
   ]
  },
  {
   "cell_type": "code",
   "execution_count": 3,
   "id": "bb160990",
   "metadata": {},
   "outputs": [],
   "source": [
    "import nbformat\n",
    "#prose_img_path = 'figures/proseplots/'"
   ]
  },
  {
   "cell_type": "code",
   "execution_count": 4,
   "id": "5de2f2d8",
   "metadata": {},
   "outputs": [],
   "source": [
    "def savepy(filename, source: str = None, cell_no: int = None):\n",
    "    '''\n",
    "    Save python file from string. Assumes the working directory is the root project folder.\n",
    "    '''\n",
    "    filename = filename.rstrip('.py') + '.py'\n",
    "    path = '../../python/'\n",
    "\n",
    "    current_cell = get_ipython().execution_count\n",
    "    \n",
    "    if source is None:\n",
    "        if cell_no is None:\n",
    "            cell_no = current_cell - 2 # - 1 for 0-based -1 again for previous\n",
    "            #raise Exception(\"need source or cell number.\")\n",
    "        # get cell source\n",
    "        tmp = nbformat.read(path + 'Figure-Dev.ipynb', as_version=4)\n",
    "        cell = tmp.cells[cell_no]\n",
    "        source = cell['source']\n",
    "        \n",
    "        # truncate source\n",
    "        trunc_word = '#truncate'\n",
    "        if trunc_word in source:\n",
    "            source = source[:source.index(trunc_word)]\n",
    "            \n",
    "        # strip white space\n",
    "        lines = source.splitlines()\n",
    "        for i in range(len(lines)):\n",
    "            lines[i] = lines[i].strip()\n",
    "        source = '\\n'.join(lines)\n",
    "        \n",
    "    with open(path + filename, 'w') as f:\n",
    "        f.write(source)"
   ]
  },
  {
   "cell_type": "code",
   "execution_count": 5,
   "id": "911e089a",
   "metadata": {},
   "outputs": [],
   "source": [
    "# preface - imports"
   ]
  },
  {
   "cell_type": "code",
   "execution_count": 6,
   "id": "b8dfbf6d",
   "metadata": {},
   "outputs": [],
   "source": [
    "import numpy as np\n",
    "import pandas as pd\n",
    "import math\n",
    "from itertools import combinations\n",
    "from itertools import product\n",
    "from sklearn.datasets import load_iris \n",
    "\n",
    "# matplotlib specific\n",
    "import matplotlib as mpl\n",
    "import matplotlib.pyplot as plt\n",
    "\n",
    "# For Special Topics\n",
    "# import ternary # requires install\n",
    "# from ternary.helpers import simplex_iterator\n",
    "from sklearn.manifold import MDS\n",
    "from sklearn.decomposition import PCA\n",
    "from scipy import stats\n",
    "\n",
    "# Made redundant in the text\n",
    "from matplotlib import colors\n",
    "from matplotlib.patches import ConnectionPatch\n",
    "from matplotlib.patches import Rectangle\n",
    "import matplotlib.gridspec as gridspec\n",
    "from matplotlib.ticker import MultipleLocator\n",
    "from matplotlib.colors import colorConverter\n",
    "from mpl_toolkits.mplot3d import Axes3D\n",
    "from mpl_toolkits.mplot3d.art3d import Poly3DCollection\n",
    "import matplotlib.dates as mdates\n",
    "from matplotlib import font_manager"
   ]
  },
  {
   "cell_type": "code",
   "execution_count": 7,
   "id": "7eca3d76",
   "metadata": {},
   "outputs": [],
   "source": [
    "savepy('imports')"
   ]
  },
  {
   "cell_type": "code",
   "execution_count": null,
   "id": "25b2d69b",
   "metadata": {},
   "outputs": [],
   "source": [
    "# versions"
   ]
  },
  {
   "cell_type": "code",
   "execution_count": null,
   "id": "fb8a6131",
   "metadata": {},
   "outputs": [],
   "source": [
    "!python --version"
   ]
  },
  {
   "cell_type": "code",
   "execution_count": null,
   "id": "0c065b09",
   "metadata": {},
   "outputs": [],
   "source": [
    "mpl.__version__"
   ]
  },
  {
   "cell_type": "code",
   "execution_count": null,
   "id": "39527583",
   "metadata": {},
   "outputs": [],
   "source": [
    "# OOP"
   ]
  },
  {
   "cell_type": "code",
   "execution_count": null,
   "id": "6572b8e4",
   "metadata": {
    "scrolled": true
   },
   "outputs": [],
   "source": [
    "import matplotlib.pyplot as plt\n",
    "x = 1,0\n",
    "y = 0,1\n",
    "\n",
    "plt.plot(x,y)\n",
    "plt.title(\"My Plot\")\n",
    "#truncate\n",
    "plt.savefig(prose_img_path + 'matlab-plot.pdf')\n",
    "plt.show()"
   ]
  },
  {
   "cell_type": "code",
   "execution_count": null,
   "id": "f4342388",
   "metadata": {},
   "outputs": [],
   "source": [
    "savepy('matlab-plot')"
   ]
  },
  {
   "cell_type": "code",
   "execution_count": null,
   "id": "dffb75eb",
   "metadata": {},
   "outputs": [],
   "source": [
    "fig, ax = plt.figure(), plt.axes()\n",
    "ax.plot(x,y)\n",
    "ax.set_title(\"My Plot\")\n",
    "#truncate\n",
    "plt.tight_layout()\n",
    "plt.savefig(prose_img_path + 'oop-plot.pdf')\n",
    "plt.close()"
   ]
  },
  {
   "cell_type": "code",
   "execution_count": null,
   "id": "7e7e798e",
   "metadata": {},
   "outputs": [],
   "source": [
    "savepy('oop-plot')"
   ]
  },
  {
   "cell_type": "code",
   "execution_count": null,
   "id": "d10fa9e6",
   "metadata": {},
   "outputs": [],
   "source": [
    "fig = plt.figure(figsize = (2,3),\n",
    "                 facecolor = 'gray') \n",
    "ax = plt.axes(facecolor = 'lightyellow')\n",
    "#truncate\n",
    "plt.tight_layout()\n",
    "plt.savefig(prose_img_path + 'figparams.pdf')\n",
    "plt.close()"
   ]
  },
  {
   "cell_type": "code",
   "execution_count": null,
   "id": "3fc23a6b",
   "metadata": {},
   "outputs": [],
   "source": [
    "savepy('figparams')"
   ]
  },
  {
   "cell_type": "code",
   "execution_count": null,
   "id": "0c76d6e2",
   "metadata": {},
   "outputs": [],
   "source": [
    "x = np.linspace(0,1,2)   \n",
    "fig, ax = plt.figure(figsize = (8,4)), plt.axes()\n",
    "ax.plot(x, x)\n",
    "ax.plot(x, 1 - x)\n",
    "ax.set_title(\"My Chart\")\n",
    "print(ax.title)\n",
    "print(ax.get_title())  # Similar to above line\n",
    "ax.set_title(\"My Wholesome Chart\")\n",
    "print(ax.get_title())  # long      \n",
    "#truncate\n",
    "plt.tight_layout()\n",
    "plt.savefig(prose_img_path + 'gettersetter.pdf')\n",
    "plt.show()"
   ]
  },
  {
   "cell_type": "code",
   "execution_count": null,
   "id": "4ecbcfc0",
   "metadata": {},
   "outputs": [],
   "source": [
    "savepy('gettersetter')"
   ]
  },
  {
   "cell_type": "code",
   "execution_count": null,
   "id": "e20bb75e",
   "metadata": {},
   "outputs": [],
   "source": [
    "# OOP - mixing the interfaces"
   ]
  },
  {
   "cell_type": "code",
   "execution_count": null,
   "id": "428d7073",
   "metadata": {},
   "outputs": [],
   "source": [
    "x = np.linspace(0,1,2) \n",
    "plt.plot(x,x)\n",
    "plt.title(\"My Chart\")\n",
    "\n",
    "ax = plt.gca()\n",
    "print(ax.title)\n",
    "\n",
    "ax.plot(x, 1 - x)\n",
    "ax.set_title('My Wholesome Chart')\n",
    "print(ax.title)\n",
    "#truncate\n",
    "fig = plt.gcf()\n",
    "fig.savefig('chart.pdf') # same as plt.savefig"
   ]
  },
  {
   "cell_type": "code",
   "execution_count": null,
   "id": "3dba65b8",
   "metadata": {},
   "outputs": [],
   "source": [
    "savepy('chart')"
   ]
  },
  {
   "cell_type": "code",
   "execution_count": null,
   "id": "0d00c49b",
   "metadata": {},
   "outputs": [],
   "source": [
    "# OOP Start \n",
    "fig, ax = plt.figure(figsize = (8,5)), plt.axes()\n",
    "\n",
    "x = np.linspace(0,100,2)\n",
    "ax.plot(x, x, color = 'gray')\n",
    "\n",
    "ax.set_xlim([0,100])\n",
    "ax.set_ylim([0,100])\n",
    "\n",
    "# Back to pyplot functions\n",
    "for i in range(101):\n",
    "    plt.axvline(i,0, i / 100, color = 'C' + str(i))\n",
    "    plt.axvline(i, i/100, 1, color = 'C' + str(i+5))\n",
    "    \n",
    "plt.axis('off')\n",
    "plt.savefig('colorful.pdf')\n",
    "#truncate\n",
    "fig.savefig(prose_img_path + 'chart.pdf')"
   ]
  },
  {
   "cell_type": "code",
   "execution_count": null,
   "id": "b892a1d7",
   "metadata": {},
   "outputs": [],
   "source": [
    "savepy('colorful')"
   ]
  },
  {
   "cell_type": "code",
   "execution_count": null,
   "id": "2c7fd024",
   "metadata": {},
   "outputs": [],
   "source": [
    "from sklearn.datasets import load_iris \n",
    "data = load_iris()['data']\n",
    "df = pd.DataFrame(data)\n",
    "\n",
    "fig, ax = plt.figure(), plt.axes()\n",
    "\n",
    "df.plot.box(ax = ax)\n",
    "ax.yaxis.grid(True)\n",
    "ax.xaxis.grid(False)\n",
    "\n",
    "plt.tight_layout()\n",
    "plt.savefig('irisbox.pdf')"
   ]
  },
  {
   "cell_type": "code",
   "execution_count": null,
   "id": "1fb5ac22",
   "metadata": {},
   "outputs": [],
   "source": [
    "savepy('irisbox')"
   ]
  },
  {
   "cell_type": "code",
   "execution_count": null,
   "id": "fa73354b",
   "metadata": {},
   "outputs": [],
   "source": []
  }
 ],
 "metadata": {
  "kernelspec": {
   "display_name": "Python 3 (ipykernel)",
   "language": "python",
   "name": "python3"
  },
  "language_info": {
   "codemirror_mode": {
    "name": "ipython",
    "version": 3
   },
   "file_extension": ".py",
   "mimetype": "text/x-python",
   "name": "python",
   "nbconvert_exporter": "python",
   "pygments_lexer": "ipython3",
   "version": "3.9.13"
  }
 },
 "nbformat": 4,
 "nbformat_minor": 5
}
