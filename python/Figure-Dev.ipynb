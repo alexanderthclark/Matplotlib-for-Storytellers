{
 "cells": [
  {
   "cell_type": "code",
   "execution_count": 1,
   "id": "e63ea55f",
   "metadata": {},
   "outputs": [
    {
     "data": {
      "text/plain": [
       "'/Users/alclark/Documents/GitHub/Matplotlib-for-Storytellers/python'"
      ]
     },
     "execution_count": 1,
     "metadata": {},
     "output_type": "execute_result"
    }
   ],
   "source": [
    "pwd"
   ]
  },
  {
   "cell_type": "code",
   "execution_count": 2,
   "id": "d49af545",
   "metadata": {},
   "outputs": [],
   "source": [
    "cd '/Users/alclark/Documents/GitHub/Matplotlib-for-Storytellers/figures/proseplots' "
   ]
  },
  {
   "cell_type": "code",
   "execution_count": 3,
   "id": "bb160990",
   "metadata": {},
   "outputs": [],
   "source": [
    "import nbformat\n",
    "#prose_img_path = 'figures/proseplots/'"
   ]
  },
  {
   "cell_type": "code",
   "execution_count": 4,
   "id": "856285bc",
   "metadata": {},
   "outputs": [],
   "source": [
    "def savestyle(filename, source: str = None, cell_no: int = None):\n",
    "    '''\n",
    "    Save python file from string. Assumes the working directory is the root project folder.\n",
    "    '''\n",
    "    filename = filename + '.mplstyle'\n",
    "    path = '../../stylelib/'\n",
    "\n",
    "    current_cell = get_ipython().execution_count\n",
    "    \n",
    "    if source is None:\n",
    "        if cell_no is None:\n",
    "            cell_no = current_cell - 2 # - 1 for 0-based -1 again for previous\n",
    "            #raise Exception(\"need source or cell number.\")\n",
    "        # get cell source\n",
    "        tmp = nbformat.read(path + 'Figure-Dev.ipynb', as_version=4)\n",
    "        cell = tmp.cells[cell_no]\n",
    "        source = cell['source']\n",
    "        \n",
    "        # truncate source\n",
    "        trunc_word = '#truncate'\n",
    "        if trunc_word in source:\n",
    "            source = source[:source.index(trunc_word)]\n",
    "            \n",
    "        # strip white space\n",
    "        lines = source.splitlines()\n",
    "        for i in range(len(lines)):\n",
    "            lines[i] = lines[i].rstrip()\n",
    "        source = '\\n'.join(lines)\n",
    "        \n",
    "    with open(path + filename, 'w') as f:\n",
    "        f.write(source)"
   ]
  },
  {
   "cell_type": "code",
   "execution_count": 5,
   "id": "5de2f2d8",
   "metadata": {},
   "outputs": [],
   "source": [
    "def savepy(filename, source: str = None, cell_no: int = None):\n",
    "    '''\n",
    "    Save python file from string. Assumes the working directory is the root project folder.\n",
    "    '''\n",
    "    filename = filename + '.py'\n",
    "    path = '../../python/'\n",
    "\n",
    "    current_cell = get_ipython().execution_count\n",
    "    \n",
    "    if source is None:\n",
    "        if cell_no is None:\n",
    "            cell_no = current_cell - 2 # - 1 for 0-based -1 again for previous\n",
    "            #raise Exception(\"need source or cell number.\")\n",
    "        # get cell source\n",
    "        tmp = nbformat.read(path + 'Figure-Dev.ipynb', as_version=4)\n",
    "        cell = tmp.cells[cell_no]\n",
    "        source = cell['source']\n",
    "        \n",
    "        # truncate source\n",
    "        trunc_word = '#truncate'\n",
    "        if trunc_word in source:\n",
    "            source = source[:source.index(trunc_word)]\n",
    "            \n",
    "        # strip white space\n",
    "        lines = source.splitlines()\n",
    "        for i in range(len(lines)):\n",
    "            lines[i] = lines[i].rstrip()\n",
    "        source = '\\n'.join(lines)\n",
    "        \n",
    "    with open(path + filename, 'w') as f:\n",
    "        f.write(source)"
   ]
  },
  {
   "cell_type": "code",
   "execution_count": 6,
   "id": "2b49f8fe",
   "metadata": {},
   "outputs": [],
   "source": [
    "# preface - imports"
   ]
  },
  {
   "cell_type": "code",
   "execution_count": 7,
   "id": "58f18659",
   "metadata": {},
   "outputs": [
    {
     "name": "stdout",
     "output_type": "stream",
     "text": [
      "Intel MKL WARNING: Support of Intel(R) Streaming SIMD Extensions 4.2 (Intel(R) SSE4.2) enabled only processors has been deprecated. Intel oneAPI Math Kernel Library 2025.0 will require Intel(R) Advanced Vector Extensions (Intel(R) AVX) instructions.\n",
      "Intel MKL WARNING: Support of Intel(R) Streaming SIMD Extensions 4.2 (Intel(R) SSE4.2) enabled only processors has been deprecated. Intel oneAPI Math Kernel Library 2025.0 will require Intel(R) Advanced Vector Extensions (Intel(R) AVX) instructions.\n"
     ]
    }
   ],
   "source": [
    "import numpy as np\n",
    "import pandas as pd\n",
    "import math\n",
    "from itertools import combinations\n",
    "from itertools import product\n",
    "from sklearn.datasets import load_iris \n",
    "\n",
    "# matplotlib specific\n",
    "import matplotlib as mpl\n",
    "import matplotlib.pyplot as plt\n",
    "\n",
    "# For Special Topics\n",
    "# import ternary # requires install\n",
    "# from ternary.helpers import simplex_iterator\n",
    "from sklearn.manifold import MDS\n",
    "from sklearn.decomposition import PCA\n",
    "from scipy import stats\n",
    "\n",
    "# Made redundant in the text\n",
    "from matplotlib.patches import ConnectionPatch\n",
    "from matplotlib.patches import Rectangle\n",
    "import matplotlib.gridspec as gridspec\n",
    "from matplotlib.ticker import MultipleLocator\n",
    "from matplotlib.colors import colorConverter\n",
    "from mpl_toolkits.mplot3d import Axes3D\n",
    "from mpl_toolkits.mplot3d.art3d import Poly3DCollection\n",
    "import matplotlib.dates as mdates\n",
    "from matplotlib import font_manager"
   ]
  },
  {
   "cell_type": "code",
   "execution_count": 8,
   "id": "258cf908",
   "metadata": {},
   "outputs": [],
   "source": [
    "savepy('imports')"
   ]
  },
  {
   "cell_type": "code",
   "execution_count": 9,
   "id": "58f9dcb8",
   "metadata": {},
   "outputs": [],
   "source": [
    "# versions"
   ]
  },
  {
   "cell_type": "code",
   "execution_count": 10,
   "id": "13682bbb",
   "metadata": {},
   "outputs": [
    {
     "name": "stdout",
     "output_type": "stream",
     "text": [
      "Python 3.9.13\r\n"
     ]
    }
   ],
   "source": [
    "!python --version"
   ]
  },
  {
   "cell_type": "code",
   "execution_count": 11,
   "id": "f28767e4",
   "metadata": {},
   "outputs": [
    {
     "data": {
      "text/plain": [
       "'3.7.1'"
      ]
     },
     "execution_count": 11,
     "metadata": {},
     "output_type": "execute_result"
    }
   ],
   "source": [
    "mpl.__version__"
   ]
  },
  {
   "cell_type": "code",
   "execution_count": 12,
   "id": "39527583",
   "metadata": {},
   "outputs": [],
   "source": [
    "# OOP"
   ]
  },
  {
   "cell_type": "code",
   "execution_count": 13,
   "id": "6572b8e4",
   "metadata": {
    "scrolled": true
   },
   "outputs": [
    {
     "data": {
      "image/png": "[encoded data removed]",
      "text/plain": [
       "<Figure size 640x480 with 1 Axes>"
      ]
     },
     "metadata": {},
     "output_type": "display_data"
    }
   ],
   "source": [
    "import matplotlib.pyplot as plt\n",
    "x = 1,0\n",
    "y = 0,1\n",
    "\n",
    "plt.plot(x,y)\n",
    "plt.title(\"My Plot\")\n",
    "#truncate\n",
    "plt.savefig('matlab-plot.pdf')\n",
    "plt.show()"
   ]
  },
  {
   "cell_type": "code",
   "execution_count": 14,
   "id": "f4342388",
   "metadata": {},
   "outputs": [],
   "source": [
    "savepy('matlab-plot')"
   ]
  },
  {
   "cell_type": "code",
   "execution_count": 15,
   "id": "dffb75eb",
   "metadata": {},
   "outputs": [],
   "source": [
    "fig, ax = plt.figure(), plt.axes()\n",
    "ax.plot(x,y)\n",
    "ax.set_title(\"My Plot\")\n",
    "#truncate\n",
    "plt.tight_layout()\n",
    "plt.savefig('oop-plot.pdf')\n",
    "plt.close()"
   ]
  },
  {
   "cell_type": "code",
   "execution_count": 16,
   "id": "7e7e798e",
   "metadata": {},
   "outputs": [],
   "source": [
    "savepy('oop-plot')"
   ]
  },
  {
   "cell_type": "code",
   "execution_count": 17,
   "id": "d10fa9e6",
   "metadata": {},
   "outputs": [],
   "source": [
    "fig = plt.figure(figsize = (2,3),\n",
    "                 facecolor = 'gray') \n",
    "ax = plt.axes(facecolor = 'lightyellow')\n",
    "#truncate\n",
    "plt.tight_layout()\n",
    "plt.savefig('figparams.pdf')\n",
    "plt.close()"
   ]
  },
  {
   "cell_type": "code",
   "execution_count": null,
   "id": "3fc23a6b",
   "metadata": {},
   "outputs": [],
   "source": [
    "savepy('figparams')"
   ]
  },
  {
   "cell_type": "code",
   "execution_count": null,
   "id": "0c76d6e2",
   "metadata": {},
   "outputs": [],
   "source": [
    "x = np.linspace(0,1,2)   \n",
    "fig, ax = plt.figure(figsize = (8,4)), plt.axes()\n",
    "ax.plot(x, x)\n",
    "ax.plot(x, 1 - x)\n",
    "ax.set_title(\"My Chart\")\n",
    "print(ax.title)\n",
    "print(ax.get_title())  # Similar to above line\n",
    "ax.set_title(\"My Wholesome Chart\")\n",
    "print(ax.get_title())  # long      \n",
    "#truncate\n",
    "plt.tight_layout()\n",
    "plt.savefig('gettersetter.pdf')\n",
    "plt.show()"
   ]
  },
  {
   "cell_type": "code",
   "execution_count": null,
   "id": "4ecbcfc0",
   "metadata": {},
   "outputs": [],
   "source": [
    "savepy('gettersetter')"
   ]
  },
  {
   "cell_type": "code",
   "execution_count": null,
   "id": "e20bb75e",
   "metadata": {},
   "outputs": [],
   "source": [
    "# OOP - mixing the interfaces"
   ]
  },
  {
   "cell_type": "code",
   "execution_count": null,
   "id": "f6b38b24",
   "metadata": {},
   "outputs": [],
   "source": [
    "x = np.linspace(0,1,2) \n",
    "plt.plot(x,x)\n",
    "plt.title(\"My Chart\")\n",
    "\n",
    "ax = plt.gca()\n",
    "print(ax.title)\n",
    "\n",
    "ax.plot(x, 1 - x)\n",
    "ax.set_title('My Wholesome Chart')\n",
    "print(ax.title)\n",
    "#truncate\n",
    "fig = plt.gcf()\n",
    "fig.savefig('chart.pdf') # same as plt.savefig"
   ]
  },
  {
   "cell_type": "code",
   "execution_count": null,
   "id": "0a92ba0e",
   "metadata": {},
   "outputs": [],
   "source": [
    "savepy('chart')"
   ]
  },
  {
   "cell_type": "code",
   "execution_count": null,
   "id": "10288426",
   "metadata": {},
   "outputs": [],
   "source": [
    "# OOP Start \n",
    "fig, ax = plt.figure(figsize = (8,5)), plt.axes()\n",
    "\n",
    "x = np.linspace(0,100,2)\n",
    "ax.plot(x, x, color = 'gray')\n",
    "\n",
    "ax.set_xlim([0,100])\n",
    "ax.set_ylim([0,100])\n",
    "\n",
    "# Back to pyplot functions\n",
    "for i in range(101):\n",
    "    plt.axvline(i,0, i / 100, color = 'C' + str(i))\n",
    "    plt.axvline(i, i/100, 1, color = 'C' + str(i+5))\n",
    "    \n",
    "plt.axis('off')\n",
    "plt.savefig('colorful.pdf')\n",
    "#truncate\n",
    "fig.savefig('chart.pdf')"
   ]
  },
  {
   "cell_type": "code",
   "execution_count": null,
   "id": "7447ddb3",
   "metadata": {},
   "outputs": [],
   "source": [
    "savepy('colorful')"
   ]
  },
  {
   "cell_type": "code",
   "execution_count": null,
   "id": "60f4c6df",
   "metadata": {},
   "outputs": [],
   "source": [
    "from sklearn.datasets import load_iris \n",
    "data = load_iris()['data']\n",
    "df = pd.DataFrame(data)\n",
    "\n",
    "fig, ax = plt.figure(), plt.axes()\n",
    "\n",
    "df.plot.box(ax = ax)\n",
    "ax.yaxis.grid(True)\n",
    "ax.xaxis.grid(False)\n",
    "\n",
    "plt.tight_layout()\n",
    "plt.savefig('irisbox.pdf')"
   ]
  },
  {
   "cell_type": "code",
   "execution_count": null,
   "id": "fb5ff986",
   "metadata": {},
   "outputs": [],
   "source": [
    "savepy('irisbox')"
   ]
  },
  {
   "cell_type": "code",
   "execution_count": null,
   "id": "d0e79e51",
   "metadata": {},
   "outputs": [],
   "source": [
    "# Chapter 2 Ticks"
   ]
  },
  {
   "cell_type": "code",
   "execution_count": null,
   "id": "631caf13",
   "metadata": {},
   "outputs": [],
   "source": [
    "fig, ax = plt.figure(), plt.axes()\n",
    "#truncate\n",
    "plt.tight_layout()\n",
    "plt.savefig(\"empty.pdf\")"
   ]
  },
  {
   "cell_type": "code",
   "execution_count": null,
   "id": "0add39d4",
   "metadata": {},
   "outputs": [],
   "source": [
    "savepy('empty')"
   ]
  },
  {
   "cell_type": "code",
   "execution_count": null,
   "id": "166a72f3",
   "metadata": {},
   "outputs": [],
   "source": [
    "fig, ax = plt.figure(), plt.axes()\n",
    "ax.set_aspect('equal')\n",
    "#truncate\n",
    "plt.tight_layout()\n",
    "plt.savefig(\"empty-square.pdf\")"
   ]
  },
  {
   "cell_type": "code",
   "execution_count": null,
   "id": "eeb23752",
   "metadata": {},
   "outputs": [],
   "source": [
    "savepy('empty-square')"
   ]
  },
  {
   "cell_type": "code",
   "execution_count": null,
   "id": "f3da9654",
   "metadata": {},
   "outputs": [],
   "source": [
    "fig, ax = plt.figure(), plt.axes()\n",
    "\n",
    "for i in range(1,4):\n",
    "    ax.plot([0,i], [i,i])\n",
    "    bottom_y, top_y = ax.get_ylim()\n",
    "    left_x, right_x = ax.get_xlim()\n",
    "    ax.fill_between(x = [left_x,right_x], \n",
    "                    y1 = bottom_y, \n",
    "                    y2 = top_y, \n",
    "                    alpha = 0.5/i)\n",
    "\n",
    "# Prevent limits from automatically stretching further\n",
    "# The last fill_between would stretch limits again\n",
    "ax.set_ylim(bottom_y, top_y)\n",
    "ax.set_xlim(left_x, right_x)\n",
    "#truncate\n",
    "plt.tight_layout()\n",
    "plt.savefig(\"expanding-lims.pdf\")"
   ]
  },
  {
   "cell_type": "code",
   "execution_count": null,
   "id": "4b83f980",
   "metadata": {},
   "outputs": [],
   "source": [
    "savepy('expanding-lims')"
   ]
  },
  {
   "cell_type": "code",
   "execution_count": null,
   "id": "689017de",
   "metadata": {},
   "outputs": [],
   "source": [
    "fig, ax = plt.figure(), plt.axes()\n",
    "ax.set_aspect(1)\n",
    "\n",
    "# Create a unit circle\n",
    "u = np.linspace(0,2*np.pi,100)\n",
    "x = np.cos(u)\n",
    "y = np.sin(u)\n",
    "\n",
    "# Default, clip_on = True\n",
    "ax.plot(x-1, y)\n",
    "\n",
    "# Unclipped, extends beyond the axes\n",
    "ax.plot(x+1, y, clip_on = False)\n",
    "\n",
    "ax.set_xlim(-1,1)\n",
    "#truncate\n",
    "plt.tight_layout()\n",
    "plt.savefig(\"circle-clip.pdf\")"
   ]
  },
  {
   "cell_type": "code",
   "execution_count": null,
   "id": "2577d575",
   "metadata": {},
   "outputs": [],
   "source": [
    "savepy('circle-clip')"
   ]
  },
  {
   "cell_type": "code",
   "execution_count": null,
   "id": "4411361f",
   "metadata": {},
   "outputs": [],
   "source": [
    "fig, ax = plt.figure(), plt.axes()\n",
    "ax.set_title(\"Where did everyone go?\")\n",
    "ax.axis('off')\n",
    "#truncate\n",
    "plt.savefig(\"no-axis.pdf\")\n",
    "plt.show()"
   ]
  },
  {
   "cell_type": "code",
   "execution_count": null,
   "id": "7c12d376",
   "metadata": {},
   "outputs": [],
   "source": [
    "savepy(\"no-axis\")"
   ]
  },
  {
   "cell_type": "code",
   "execution_count": null,
   "id": "c9c196fc",
   "metadata": {},
   "outputs": [],
   "source": [
    "fig, ax = plt.figure(), plt.axes()\n",
    "ax.set_title(\"Where did everyone go?\")\n",
    "#truncate\n",
    "plt.savefig(\"yes-axis.pdf\")\n",
    "plt.show()"
   ]
  },
  {
   "cell_type": "code",
   "execution_count": null,
   "id": "dab339f2",
   "metadata": {},
   "outputs": [],
   "source": [
    "savepy('yes-axis')"
   ]
  },
  {
   "cell_type": "code",
   "execution_count": null,
   "id": "107a20a7",
   "metadata": {},
   "outputs": [],
   "source": [
    "for spine in 'bottom', 'top', 'left', 'right':\n",
    "    fig, ax = plt.figure(), plt.axes()\n",
    "    ax.set_title(\"No \" + spine.title() + \" Spine\")\n",
    "    ax.spines[spine].set_visible(False)\n",
    "    plt.show()\n",
    "    #truncate\n",
    "    fig.savefig(f\"spine-vis-{spine}.pdf\")"
   ]
  },
  {
   "cell_type": "code",
   "execution_count": null,
   "id": "4f880e22",
   "metadata": {},
   "outputs": [],
   "source": [
    "savepy('spine-vis')"
   ]
  },
  {
   "cell_type": "code",
   "execution_count": null,
   "id": "bdcf2c27",
   "metadata": {},
   "outputs": [],
   "source": [
    "fig, ax = plt.figure(), plt.axes(facecolor = 'lightyellow')\n",
    "ax.set_title(\"Thick Spines\")\n",
    "for spine in 'bottom', 'top', 'left', 'right':\n",
    "    ax.spines[spine].set_color('black')\n",
    "    ax.spines[spine].set_linewidth(4)\n",
    "ax.set_xlim(0,1)\n",
    "ax.set_ylim(0,1)\n",
    "#truncate\n",
    "plt.savefig(\"thick-spines.pdf\")\n",
    "plt.show()"
   ]
  },
  {
   "cell_type": "code",
   "execution_count": null,
   "id": "1b462498",
   "metadata": {},
   "outputs": [],
   "source": [
    "savepy('thick-spines')"
   ]
  },
  {
   "cell_type": "code",
   "execution_count": null,
   "id": "f0f62091",
   "metadata": {},
   "outputs": [],
   "source": [
    "fig, ax = plt.figure(), plt.axes()\n",
    "ax.set_title(\"Zero Spines\")\n",
    "ax.plot([-1,1], [-1,1]) \n",
    "for spine in 'top',  'right':\n",
    "    ax.spines[spine].set_visible(False)\n",
    "for spine in 'bottom',  'left':\n",
    "    ax.spines[spine].set_position('zero')\n",
    "#truncate\n",
    "plt.savefig(\"zero-spines.pdf\")\n",
    "plt.show()"
   ]
  },
  {
   "cell_type": "code",
   "execution_count": null,
   "id": "04c6b510",
   "metadata": {},
   "outputs": [],
   "source": [
    "savepy(\"zero-spines\")"
   ]
  },
  {
   "cell_type": "code",
   "execution_count": null,
   "id": "2ad02573",
   "metadata": {},
   "outputs": [],
   "source": [
    "fig, ax = plt.figure(), plt.axes()\n",
    "ax.set_title(\"Zero Spines and Arrows\")\n",
    "ax.plot([-1,1], [-1,1])\n",
    "for spine in 'top',  'right':\n",
    "    ax.spines[spine].set_visible(False)\n",
    "for spine in 'bottom',  'left':\n",
    "    ax.spines[spine].set_position('zero')\n",
    "\n",
    "# get current limits\n",
    "xlims = ax.get_xlim()\n",
    "ylims = ax.get_ylim()\n",
    "\n",
    "# Add arrows\n",
    "ax.plot(xlims[1], 0, \">k\", clip_on = False)\n",
    "ax.plot(0, ylims[1], \"^k\", clip_on = False)\n",
    "\n",
    "# revert limits to before the arrows\n",
    "ax.set_xlim(xlims)\n",
    "ax.set_ylim(ylims)\n",
    "#truncate\n",
    "plt.savefig(\"arrow-axes.pdf\")"
   ]
  },
  {
   "cell_type": "code",
   "execution_count": null,
   "id": "48296210",
   "metadata": {},
   "outputs": [],
   "source": [
    "savepy('arrow-axes')"
   ]
  },
  {
   "cell_type": "code",
   "execution_count": null,
   "id": "f1f7f5e2",
   "metadata": {},
   "outputs": [],
   "source": [
    "# ticks"
   ]
  },
  {
   "cell_type": "code",
   "execution_count": null,
   "id": "e65e3c79",
   "metadata": {},
   "outputs": [],
   "source": [
    "x = np.linspace(0, np.pi * 2, 100)\n",
    "\n",
    "fig, ax = plt.figure(), plt.axes()\n",
    "ax.plot(x, np.sin(x))\n",
    "\n",
    "# Y axis\n",
    "ax.set_yticks( [-0.5, 0, 0.5] )\n",
    "ax.set_yticklabels( [r\"$-\\frac{1}{2}$\", 0,  r\"$\\frac{1}{2}$\"] )\n",
    "\n",
    "# X axis\n",
    "ax.xaxis.set_ticks([np.pi])\n",
    "ax.xaxis.set_ticklabels([r\"$\\pi$\"])\n",
    "#truncate\n",
    "plt.savefig(\"ticks1.pdf\")"
   ]
  },
  {
   "cell_type": "code",
   "execution_count": null,
   "id": "ea052fa5",
   "metadata": {},
   "outputs": [],
   "source": [
    "savepy('ticks1')"
   ]
  },
  {
   "cell_type": "code",
   "execution_count": null,
   "id": "f79d2530",
   "metadata": {},
   "outputs": [],
   "source": [
    "heights = pd.Series( {'Shaq': 7 + (1/12),\n",
    "                     'Yao Ming': 7.5,\n",
    "                     'Delle Donne': 6 + (5/12)})\n",
    "\n",
    "fig, ax = plt.figure(figsize = (4,7)), plt.axes()\n",
    "\n",
    "heights.plot.bar(ax = ax, \n",
    "        color = ['#FDB927', '#BA0C2F', '#0C2340'], \n",
    "        edgecolor = ['#552583', '#041E42', '#C8102E'],\n",
    "        linewidth = 2)\n",
    "# https://teamcolorcodes.com/ \n",
    "# LA Lakers and Houston Rockets and DC Mystics\n",
    "\n",
    "# Get rid of ticks on x-axis, rotate text\n",
    "ax.xaxis.set_tick_params(length = 0, which = 'major', \n",
    "                         rotation = 0)\n",
    "\n",
    "ylim0, ylim1 = 0,8\n",
    "ax.set_ylim([ylim0, ylim1])\n",
    "\n",
    "ax.set_yticks(range(ylim0, ylim1+1))\n",
    "#ax.yaxis.set_major_locator(MultipleLocator(1))\n",
    "\n",
    "ax.yaxis.set_minor_locator(MultipleLocator(1/12))\n",
    "ax.yaxis.set_tick_params(length = 1, which = 'minor')\n",
    "ax.yaxis.set_tick_params(length = 2, which = 'major')\n",
    "\n",
    "ax.set_ylabel(\"Height (feet)\")\n",
    "ax.set_title(\"Pro Basketball Players are Tall\")\n",
    "#truncate\n",
    "plt.savefig(\"tall-ballers.pdf\")"
   ]
  },
  {
   "cell_type": "code",
   "execution_count": null,
   "id": "22f7a89d",
   "metadata": {},
   "outputs": [],
   "source": [
    "savepy('tall-ballers')"
   ]
  },
  {
   "cell_type": "code",
   "execution_count": null,
   "id": "cf2055c5",
   "metadata": {},
   "outputs": [],
   "source": [
    "x = np.linspace(0, np.pi * 2, 100)\n",
    "\n",
    "fig, ax = plt.figure(), plt.axes()\n",
    "ax.plot(x, np.sin(x))\n",
    "\n",
    "ax.xaxis.set_major_locator(MultipleLocator(np.pi))\n",
    "#truncate\n",
    "plt.savefig(\"mult-locator.pdf\")\n",
    "plt.show()"
   ]
  },
  {
   "cell_type": "code",
   "execution_count": null,
   "id": "bbb33e60",
   "metadata": {},
   "outputs": [],
   "source": [
    "savepy('mult-locator')"
   ]
  },
  {
   "cell_type": "code",
   "execution_count": null,
   "id": "3043f00f",
   "metadata": {},
   "outputs": [],
   "source": [
    "fig, ax = plt.figure(), plt.axes()\n",
    "x = np.arange(10, 30, 1)\n",
    "y = np.random.normal(size = len(x))\n",
    "ax.plot(x,y)\n",
    "\n",
    "# set what ticks are shown\n",
    "ax.xaxis.set_ticks(x)\n",
    "\n",
    "# move the ticks\n",
    "ax.yaxis.tick_right()\n",
    "ax.xaxis.set_ticks_position('top')\n",
    "\n",
    "ax.set_title(\"Some Plot\")\n",
    "#truncate\n",
    "plt.savefig('tick-right.pdf')\n",
    "plt.show()"
   ]
  },
  {
   "cell_type": "code",
   "execution_count": null,
   "id": "5f8ad6ae",
   "metadata": {},
   "outputs": [],
   "source": [
    "savepy('tick-right')"
   ]
  },
  {
   "cell_type": "code",
   "execution_count": null,
   "id": "68b5fc3d",
   "metadata": {},
   "outputs": [],
   "source": [
    "## ticks - grids"
   ]
  },
  {
   "cell_type": "code",
   "execution_count": null,
   "id": "1cab22f1",
   "metadata": {},
   "outputs": [],
   "source": [
    "fig, ax = plt.figure(), plt.axes()\n",
    "x = np.linspace(0,10,100)\n",
    "ax.plot(x, np.cos(x)**3)\n",
    "ax.grid(False)\n",
    "#truncate\n",
    "plt.savefig(\"grid-false.pdf\")"
   ]
  },
  {
   "cell_type": "code",
   "execution_count": null,
   "id": "12c53931",
   "metadata": {},
   "outputs": [],
   "source": [
    "savepy('grid-false')"
   ]
  },
  {
   "cell_type": "code",
   "execution_count": null,
   "id": "0f81044b",
   "metadata": {},
   "outputs": [],
   "source": [
    "fig, ax = plt.figure(), plt.axes()\n",
    "x = np.linspace(0,10,100)\n",
    "ax.plot(x, np.cos(x)**3)\n",
    "ax.grid(True)\n",
    "#truncate\n",
    "plt.tight_layout()\n",
    "plt.savefig(\"grid-true.pdf\")\n",
    "plt.show()"
   ]
  },
  {
   "cell_type": "code",
   "execution_count": null,
   "id": "84e5d3d5",
   "metadata": {},
   "outputs": [],
   "source": [
    "savepy('grid-true')"
   ]
  },
  {
   "cell_type": "code",
   "execution_count": null,
   "id": "b824976a",
   "metadata": {},
   "outputs": [],
   "source": [
    "fig, ax = plt.figure(), plt.axes()\n",
    "\n",
    "x = np.linspace(0, 10, 100)\n",
    "y = 10 + .2*x\n",
    "points = y + np.random.normal(size = len(x))\n",
    "ax.scatter(x,points)\n",
    "\n",
    "ax.set_ylim(0,30)\n",
    "ax.set_xticks([])\n",
    "#truncate\n",
    "plt.tight_layout()\n",
    "plt.savefig(\"y-grid-false.pdf\")\n",
    "plt.show()"
   ]
  },
  {
   "cell_type": "code",
   "execution_count": null,
   "id": "e4a62af2",
   "metadata": {},
   "outputs": [],
   "source": [
    "savepy('y-grid-false')"
   ]
  },
  {
   "cell_type": "code",
   "execution_count": null,
   "id": "00d68d90",
   "metadata": {},
   "outputs": [],
   "source": [
    "fig, ax = plt.figure(), plt.axes()\n",
    "\n",
    "x = np.linspace(0,10, 100)\n",
    "y = 10 + .2*x\n",
    "points = y + np.random.normal(size = len(x))\n",
    "ax.scatter(x,points)\n",
    "\n",
    "ax.set_ylim(0,30)\n",
    "ax.set_xticks([])\n",
    "\n",
    "# Add grid and line of best fit\n",
    "ax.yaxis.grid(True)\n",
    "ax.plot(x, y, color = 'black')\n",
    "#truncate\n",
    "plt.tight_layout()\n",
    "plt.savefig(\"y-grid-true.pdf\")\n",
    "plt.show()"
   ]
  },
  {
   "cell_type": "code",
   "execution_count": null,
   "id": "5c475003",
   "metadata": {},
   "outputs": [],
   "source": [
    "savepy('y-grid-true')"
   ]
  },
  {
   "cell_type": "code",
   "execution_count": null,
   "id": "30e64952",
   "metadata": {},
   "outputs": [],
   "source": [
    "fig, ax = plt.figure(), plt.axes()\n",
    "ax.xaxis.grid(False)\n",
    "ax.yaxis.grid(True, linewidth = 3)\n",
    "ax.yaxis.grid(True, which = 'minor', linewidth = 0.5) \n",
    "ax.yaxis.set_minor_locator(mpl.ticker.AutoMinorLocator())\n",
    "#truncate\n",
    "plt.tight_layout()\n",
    "plt.savefig(\"grids-auto.pdf\")\n",
    "plt.show()"
   ]
  },
  {
   "cell_type": "code",
   "execution_count": null,
   "id": "7cd4d86d",
   "metadata": {},
   "outputs": [],
   "source": [
    "savepy('grids-auto')"
   ]
  },
  {
   "cell_type": "code",
   "execution_count": null,
   "id": "a8d9a6ec",
   "metadata": {},
   "outputs": [],
   "source": [
    "fig, ax = plt.figure(), plt.axes()\n",
    "ax.xaxis.grid(False)\n",
    "ax.yaxis.grid(True, linewidth = 3)\n",
    "ax.yaxis.grid(True, which = 'minor', linewidth = 0.5) \n",
    "ax.yaxis.set_minor_locator(mpl.ticker.MultipleLocator(.1))\n",
    "#truncate\n",
    "plt.tight_layout()\n",
    "plt.savefig(\"grids-multi.pdf\")\n",
    "plt.show()"
   ]
  },
  {
   "cell_type": "code",
   "execution_count": null,
   "id": "00221531",
   "metadata": {},
   "outputs": [],
   "source": [
    "savepy('grids-multi')"
   ]
  },
  {
   "cell_type": "code",
   "execution_count": null,
   "id": "3644780e",
   "metadata": {},
   "outputs": [],
   "source": [
    "# ELEMENTS "
   ]
  },
  {
   "cell_type": "code",
   "execution_count": null,
   "id": "e49483b7",
   "metadata": {},
   "outputs": [],
   "source": [
    "fig, ax = plt.figure(), plt.axes()\n",
    "ax.set_aspect(1)\n",
    "\n",
    "# Patches\n",
    "rect = plt.Rectangle(xy = (0.2, 0.2),\n",
    "                     width = 0.6,\n",
    "                     height = .6,\n",
    "                     facecolor = 'C0',\n",
    "                     edgecolor = 'C1')\n",
    "patch = ax.add_artist(rect)\n",
    "\n",
    "# Lines\n",
    "x, y = [0.5, 0.5], [0, 1]\n",
    "line, = ax.plot(x, y) \n",
    "lines = ax.plot(y,x)\n",
    "\n",
    "# Text\n",
    "text = ax.text(0.2, 0.8, 'Matlotlib', size = 13)\n",
    "#truncate\n",
    "plt.tight_layout()\n",
    "plt.savefig(\"artists.pdf\")\n",
    "plt.show()"
   ]
  },
  {
   "cell_type": "code",
   "execution_count": null,
   "id": "0ee4ef53",
   "metadata": {},
   "outputs": [],
   "source": [
    "savepy(\"artists\")"
   ]
  },
  {
   "cell_type": "code",
   "execution_count": null,
   "id": "793906e1",
   "metadata": {},
   "outputs": [],
   "source": [
    "fig, ax = plt.figure(), plt.axes()\n",
    "ax.set_xlim(0,1)\n",
    "ax.set_ylim(0,1)\n",
    "ax.set_xticks([])\n",
    "ax.set_yticks([])\n",
    "\n",
    "# make colors\n",
    "green = (.9, .99, .9)\n",
    "blue = (.9, .9, .99)\n",
    "red = (.99, .9, .9)\n",
    "\n",
    "# Text with default zorder of 3\n",
    "text = ax.text(0.5, 0.5, \"Hello, world!\",\n",
    "               size = 30,\n",
    "               ha = 'center',\n",
    "               va = 'center')\n",
    "\n",
    "# Lines with default zorder of 2\n",
    "line1 = ax.axvline(0.65,\n",
    "                   linewidth = 10,\n",
    "                   color = blue)\n",
    "line2 = ax.plot([0.35, 0.35], [.05, .95],\n",
    "                linewidth = 10, \n",
    "                color = blue)\n",
    "\n",
    "# Patches with default zorder of 1\n",
    "patch1 = ax.fill_between([0,1], 0.45, .55,\n",
    "                         facecolor = green,\n",
    "                         edgecolor = 'black')\n",
    "patch2 = ax.fill_between([.48,.52], 0, 1,\n",
    "                         facecolor = red, \n",
    "                         edgecolor = 'black',\n",
    "                         linewidth = 2)\n",
    "\n",
    "# Check zorders\n",
    "print(text.get_zorder())\n",
    "print(line1.get_zorder())\n",
    "print(line2[0].get_zorder())\n",
    "print(patch1.get_zorder())\n",
    "print(patch2.get_zorder())\n",
    "#truncate\n",
    "plt.tight_layout()\n",
    "plt.savefig(\"default-z.pdf\")\n",
    "plt.show()"
   ]
  },
  {
   "cell_type": "code",
   "execution_count": null,
   "id": "bdf019ad",
   "metadata": {},
   "outputs": [],
   "source": [
    "savepy('default-z')"
   ]
  },
  {
   "cell_type": "code",
   "execution_count": null,
   "id": "3d807e2c",
   "metadata": {},
   "outputs": [],
   "source": [
    "fig, ax = plt.figure(), plt.axes()\n",
    "\n",
    "print(fig.get_zorder())\n",
    "print(ax.get_zorder())\n",
    "\n",
    "for i in [0, 0.25, .5, .75]:\n",
    "    \n",
    "    t = ax.fill_between([i, 1], 0.4 - i/10, .6 - i/20,\n",
    "                        zorder = 1 - i)\n",
    "    print(t.get_zorder())\n",
    "\n",
    "ax.set_xlim(0,1)\n",
    "ax.set_ylim(0,1)\n",
    "#truncate\n",
    "plt.tight_layout()\n",
    "plt.savefig(\"reverse-z.pdf\")\n",
    "plt.show()"
   ]
  },
  {
   "cell_type": "code",
   "execution_count": null,
   "id": "023874a0",
   "metadata": {},
   "outputs": [],
   "source": [
    "savepy('reverse-z')"
   ]
  },
  {
   "cell_type": "code",
   "execution_count": null,
   "id": "0617fdb9",
   "metadata": {},
   "outputs": [],
   "source": [
    "fig, ax = plt.figure(), plt.axes()\n",
    "for i in [0, 0.25, .5, .75]:\n",
    "    ax.fill_between([i,1], 0.3 - i/10, .7 - i/20,\n",
    "                    zorder = 2-i)\n",
    "ax.grid(True, linewidth = 3)\n",
    "ax.set_xlim(0,1)\n",
    "ax.set_ylim(0,1)\n",
    "print(ax.get_zorder())\n",
    "#truncate\n",
    "plt.tight_layout()\n",
    "plt.savefig(\"default-axes.pdf\")\n",
    "plt.show()"
   ]
  },
  {
   "cell_type": "code",
   "execution_count": null,
   "id": "5e9cc21a",
   "metadata": {},
   "outputs": [],
   "source": [
    "savepy('default-axes')"
   ]
  },
  {
   "cell_type": "code",
   "execution_count": null,
   "id": "795292e1",
   "metadata": {},
   "outputs": [],
   "source": [
    "fig, ax = plt.figure(), plt.axes()\n",
    "for i in [0, 0.25, .5, .75]:\n",
    "    ax.fill_between([i,1], 0.3 - i/10, .7 - i/20,\n",
    "                    zorder = 2-i)\n",
    "ax.grid(True, linewidth = 3)\n",
    "ax.set_xlim(0,1)\n",
    "ax.set_ylim(0,1)\n",
    "ax.set_axisbelow(False)\n",
    "print(ax.get_zorder())\n",
    "#truncate\n",
    "plt.tight_layout()\n",
    "plt.savefig(\"front-axes.pdf\")\n",
    "plt.show()"
   ]
  },
  {
   "cell_type": "code",
   "execution_count": null,
   "id": "8102b2ed",
   "metadata": {},
   "outputs": [],
   "source": [
    "savepy('front-axes')"
   ]
  },
  {
   "cell_type": "code",
   "execution_count": null,
   "id": "e350b248",
   "metadata": {},
   "outputs": [],
   "source": [
    "fig, ax = plt.figure(), plt.axes()\n",
    "for i in [0, 0.25, .5, .75]:\n",
    "    ax.fill_between([i,1], 0.3 - i/10, .7 - i/20,\n",
    "                    zorder = 2-i)\n",
    "ax.grid(True, linewidth = 3)\n",
    "ax.set_xlim(0,1)\n",
    "ax.set_ylim(0,1)\n",
    "ax.xaxis.set_zorder(3)\n",
    "#truncate\n",
    "plt.tight_layout()\n",
    "plt.savefig(\"front-xaxis.pdf\")\n",
    "plt.show()"
   ]
  },
  {
   "cell_type": "code",
   "execution_count": null,
   "id": "c5113831",
   "metadata": {},
   "outputs": [],
   "source": [
    "savepy(\"front-xaxis\")\n"
   ]
  },
  {
   "cell_type": "code",
   "execution_count": null,
   "id": "0aa19c0d",
   "metadata": {},
   "outputs": [],
   "source": [
    "## coordinate systems"
   ]
  },
  {
   "cell_type": "code",
   "execution_count": null,
   "id": "11929157",
   "metadata": {},
   "outputs": [],
   "source": [
    "fig, ax = plt.figure(facecolor = 'lightgray'), plt.axes()\n",
    "\n",
    "ax.plot([0, 1], [0, 1],\n",
    "        linewidth = 3,\n",
    "        transform = ax.transAxes,\n",
    "        label = 'axes')\n",
    "\n",
    "ax.plot([0, 1], [0, 1],\n",
    "        color = 'C1',\n",
    "        linewidth = 1,\n",
    "        transform = fig.transFigure,\n",
    "        clip_on = False,\n",
    "        label = 'figure')\n",
    "\n",
    "ax.plot([0, 1], [0, 1],\n",
    "        color = 'C2',\n",
    "        linestyle = 'dashed',\n",
    "        clip_on = False,\n",
    "        label = 'data')\n",
    "\n",
    "ax.set_xlim(0,2)\n",
    "ax.legend()\n",
    "#truncate\n",
    "plt.tight_layout()\n",
    "plt.savefig('coords.pdf', facecolor = 'lightgray')\n",
    "plt.show()"
   ]
  },
  {
   "cell_type": "code",
   "execution_count": null,
   "id": "d0344792",
   "metadata": {},
   "outputs": [],
   "source": [
    "savepy('coords')"
   ]
  },
  {
   "cell_type": "code",
   "execution_count": null,
   "id": "3723ee3a",
   "metadata": {},
   "outputs": [],
   "source": [
    "fig, ax = plt.figure(), plt.axes()\n",
    "ax.axis('off')\n",
    "# lines to horizon\n",
    "for i in np.linspace(0,1,50):\n",
    "    ax.plot([i,.5], [0.00, .5], \n",
    "            transform = ax.transAxes,\n",
    "            linewidth = 2,\n",
    "            zorder = 10-(i-0.5)**2)\n",
    "\n",
    "# fill bottom half\n",
    "green = (.1, .5, .1)\n",
    "ax.fill_between(x = (0,1),\n",
    "                y1 = 0,\n",
    "                y2 = 0.5,\n",
    "                transform = ax.transAxes,\n",
    "                color = green)\n",
    "\n",
    "# fill top half\n",
    "ax.fill_between(x = (0,1),\n",
    "                y1 = 0.5,\n",
    "                y2 = 1,\n",
    "                transform = ax.transAxes,\n",
    "                color = 'lightblue')\n",
    "#truncate\n",
    "plt.tight_layout()\n",
    "plt.savefig(\"coord-horizon.pdf\")\n",
    "plt.show()"
   ]
  },
  {
   "cell_type": "code",
   "execution_count": null,
   "id": "630f81a5",
   "metadata": {},
   "outputs": [],
   "source": [
    "savepy('coord-horizon')"
   ]
  },
  {
   "cell_type": "code",
   "execution_count": null,
   "id": "cb16c40d",
   "metadata": {},
   "outputs": [],
   "source": [
    "# Plot setup \n",
    "fig, ax = plt.figure(), plt.axes()\n",
    "x = np.linspace(0, 2*np.pi)\n",
    "sin, = ax.plot(x, 3*np.sin(x))\n",
    "ax.set_xlim(0, 10)\n",
    "ax.set_ylim(-4, 6)\n",
    "fig.tight_layout()\n",
    "\n",
    "# Vertical line with axes coordinates\n",
    "middle = [0.5, 0.5]\n",
    "bottom_half = [0, 0.5]\n",
    "ax.plot(middle, bottom_half,\n",
    "        transform = ax.transAxes)\n",
    "\n",
    "# Continue vertical line with data coordinates\n",
    "mid_in_display = ax.transAxes.transform([0.5, 0.5])\n",
    "mid_in_data = ax.transData.inverted().transform(mid_in_display)\n",
    "top_mid_in_display = ax.transAxes.transform([0.5, 1])\n",
    "top_mid_in_data = ax.transData.inverted()\\\n",
    "                        .transform(top_mid_in_display)\n",
    "x = mid_in_data[0], top_mid_in_data[0]\n",
    "y = mid_in_data[1], top_mid_in_data[1]\n",
    "ax.plot(x, y, linestyle = 'dashed')\n",
    "\n",
    "# Horizontal lines in figure coordinates\n",
    "top_wave_display = ax.transData.transform([np.pi/2, 3])\n",
    "top_wave_figure = fig.transFigure.inverted()\\\n",
    "                         .transform(top_wave_display)\n",
    "\n",
    "y = top_wave_figure[1],  top_wave_figure[1]\n",
    "ax.plot([0,1], y,\n",
    "        transform = fig.transFigure,\n",
    "        linestyle = 'dotted',\n",
    "        clip_on = False)\n",
    "#truncate\n",
    "plt.savefig(\"coord-trans.pdf\")\n",
    "plt.show()"
   ]
  },
  {
   "cell_type": "code",
   "execution_count": null,
   "id": "119fa11e",
   "metadata": {},
   "outputs": [],
   "source": [
    "savepy('coord-trans')"
   ]
  },
  {
   "cell_type": "code",
   "execution_count": null,
   "id": "e13ea275",
   "metadata": {},
   "outputs": [],
   "source": [
    "## window extents"
   ]
  },
  {
   "cell_type": "code",
   "execution_count": null,
   "id": "e5ceefa3",
   "metadata": {},
   "outputs": [],
   "source": [
    "fig, ax = plt.figure(), plt.axes()\n",
    "\n",
    "center_text = ax.text(0.5, 0.5,\n",
    "                      'centered text',\n",
    "                      ha = 'center')\n",
    "\n",
    "fig.canvas.draw()\n",
    "box = center_text.get_window_extent()\n",
    "data_box = ax.transData.inverted().transform(box)\n",
    "\n",
    "# left limit\n",
    "ax.axvline(data_box[0][0],\n",
    "           color = 'green',\n",
    "           linestyle = 'dashed')\n",
    "\n",
    "# right limit\n",
    "ax.axvline(data_box[1][0],\n",
    "           color = 'black')\n",
    "#truncate\n",
    "plt.savefig(\"window-extent.pdf\")"
   ]
  },
  {
   "cell_type": "code",
   "execution_count": null,
   "id": "cf5821e9",
   "metadata": {},
   "outputs": [],
   "source": [
    "savepy('window-extent')"
   ]
  },
  {
   "cell_type": "code",
   "execution_count": null,
   "id": "30d6b236",
   "metadata": {},
   "outputs": [],
   "source": [
    "x_len = 200\n",
    "x = range(0, x_len)\n",
    "\n",
    "# Create a Gaussian random walk starting at 0\n",
    "start = np.zeros(1)\n",
    "y1 = np.concatenate([start,np.random.normal(0, 1, x_len-1)]).cumsum()\n",
    "y2 = np.concatenate([start,np.random.normal(0, 1, x_len-1)]).cumsum()\n",
    "\n",
    "# Start plot\n",
    "fig, ax = plt.figure(figsize = (7,5)), plt.axes()\n",
    "fig.canvas.draw()\n",
    "\n",
    "# Color arguments added to make defaults explicit\n",
    "ax.plot(x, y1, color = 'C0')\n",
    "ax.plot(x, y2, color = 'C1')\n",
    "\n",
    "# Tuned by hand\n",
    "shift = .099814 # Where titling starts on x-axis\n",
    "y_level = 1.02\n",
    "transform = ax.transAxes # use axes coords\n",
    "\n",
    "t1 = ax.text(shift, y_level, 'Stock Performance:', \n",
    "        transform = transform, \n",
    "        ha = 'left',\n",
    "        fontsize = 13,\n",
    "        color = 'black')\n",
    "\n",
    "# Get where text ended\n",
    "x_pos = t1.get_window_extent()\\\n",
    "       .transformed(transform.inverted()).x1\n",
    "\n",
    "t2 = ax.text(x_pos, y_level, ' GenericCo', \n",
    "        transform = transform, \n",
    "        ha = 'left', \n",
    "        fontsize = 13,\n",
    "        color = 'C0')\n",
    "\n",
    "x_pos = t2.get_window_extent()\\\n",
    "       .transformed(transform.inverted()).x1\n",
    "\n",
    "t3 = ax.text(x_pos, y_level, ' &', \n",
    "        transform = transform, \n",
    "        ha = 'left', \n",
    "        fontsize = 13,\n",
    "        color = 'black')\n",
    "\n",
    "x_pos = t3.get_window_extent()\\\n",
    "       .transformed(transform.inverted()).x1\n",
    "\n",
    "t4 = ax.text(x_pos, y_level, ' PerfunctoryInc', \n",
    "        transform = transform, \n",
    "        ha = 'left', \n",
    "        fontsize = 13,\n",
    "        color = 'C1')\n",
    "\n",
    "x_pos = t4.get_window_extent()\\\n",
    "       .transformed(transform.inverted()).x1\n",
    "\n",
    "# compare distances to the edge\n",
    "# equal means perfect centering\n",
    "print(shift, 1-x_pos) \n",
    "#truncate\n",
    "plt.savefig(\"multicolor-title.pdf\")"
   ]
  },
  {
   "cell_type": "code",
   "execution_count": null,
   "id": "9c8299ce",
   "metadata": {},
   "outputs": [],
   "source": [
    "savepy(\"multicolor-title\")"
   ]
  },
  {
   "cell_type": "code",
   "execution_count": null,
   "id": "343ae3ae",
   "metadata": {},
   "outputs": [],
   "source": [
    "# TITLES chapter"
   ]
  },
  {
   "cell_type": "code",
   "execution_count": null,
   "id": "4f957db6",
   "metadata": {},
   "outputs": [],
   "source": [
    "x = np.linspace(0,2,2)\n",
    "fig, ax = plt.figure(), plt.axes()\n",
    "\n",
    "ax.plot(x,x)\n",
    "ax.set_title(\"Title\\n(with Padding)\", \n",
    "            fontsize = 'xx-large', \n",
    "            weight = 'bold',\n",
    "            color = 'purple',\n",
    "            loc = 'left',\n",
    "            pad = 10) \n",
    "#truncate\n",
    "plt.tight_layout()\n",
    "plt.savefig(\"title-pad.pdf\")\n",
    "plt.show()"
   ]
  },
  {
   "cell_type": "code",
   "execution_count": null,
   "id": "bad91380",
   "metadata": {},
   "outputs": [],
   "source": [
    "savepy(\"title-pad\")"
   ]
  },
  {
   "cell_type": "code",
   "execution_count": null,
   "id": "08a4de57",
   "metadata": {},
   "outputs": [],
   "source": [
    "x = np.linspace(0,2,2)\n",
    "fig, ax = plt.figure(), plt.axes()\n",
    "\n",
    "ax.plot(x,x)\n",
    "title = ax.set_title(\"Title\\n(No Padding)\", \n",
    "            fontsize = 'xx-large', \n",
    "            weight = 'bold',\n",
    "            color = 'purple',\n",
    "            loc = 'left') \n",
    "#truncate\n",
    "plt.tight_layout()\n",
    "plt.savefig(\"title-no-pad.pdf\")\n",
    "plt.show()"
   ]
  },
  {
   "cell_type": "code",
   "execution_count": null,
   "id": "a4d85559",
   "metadata": {},
   "outputs": [],
   "source": [
    "x = np.linspace(0,2,2)\n",
    "fig, ax = plt.figure(), plt.axes()\n",
    "\n",
    "ax.plot(x,x)\n",
    "ax.set_title(\"Left Title\", \n",
    "            loc = 'left') \n",
    "ax.set_title(\"Right Title\",\n",
    "            loc = 'right')\n",
    "ax.set_title(\"I won't be long for this world.\",\n",
    "            loc = 'center')\n",
    "            \n",
    "# This only overwrites the center title above\n",
    "ax.set_title(\"Center Title\") \n",
    "#truncate\n",
    "plt.tight_layout()\n",
    "plt.savefig(\"title-loc.pdf\")\n",
    "plt.show()"
   ]
  },
  {
   "cell_type": "code",
   "execution_count": null,
   "id": "f0e99ec8",
   "metadata": {},
   "outputs": [],
   "source": [
    "savepy('title-loc')"
   ]
  },
  {
   "cell_type": "code",
   "execution_count": null,
   "id": "6af84e93",
   "metadata": {},
   "outputs": [],
   "source": [
    "fig, ax = plt.figure(), plt.axes()\n",
    "\n",
    "ax.set_xlim([0,10])\n",
    "ax.set_ylim([0,10])\n",
    "\n",
    "fig.text(0.5, 0.5, 'Figure Text')\n",
    "ax.text(0.5, 0.5, 'Axes Text')\n",
    "#truncate\n",
    "plt.tight_layout()\n",
    "plt.savefig(\"text-methods.pdf\")\n",
    "plt.show()"
   ]
  },
  {
   "cell_type": "code",
   "execution_count": null,
   "id": "62613729",
   "metadata": {},
   "outputs": [],
   "source": [
    "savepy(\"text-methods\")"
   ]
  },
  {
   "cell_type": "code",
   "execution_count": null,
   "id": "86905f27",
   "metadata": {},
   "outputs": [],
   "source": [
    "fig, ax = plt.figure(), plt.axes()\n",
    "x, y = 0.5, 0.5\n",
    "ax.scatter([x], [y])\n",
    "ax.text(x,y, 'text', fontsize = 20)\n",
    "ax.axis('off')\n",
    "#truncate\n",
    "plt.tight_layout()\n",
    "plt.savefig(\"text-default-align.pdf\")\n",
    "plt.show()"
   ]
  },
  {
   "cell_type": "code",
   "execution_count": null,
   "id": "c53cb4dd",
   "metadata": {},
   "outputs": [],
   "source": [
    "savepy('text-default-align')"
   ]
  },
  {
   "cell_type": "code",
   "execution_count": null,
   "id": "9c3937bf",
   "metadata": {},
   "outputs": [],
   "source": [
    "fig, ax = plt.figure(), plt.axes()\n",
    "\n",
    "x1, x2, y = 0.49, 0.51, 0.5\n",
    "ax.scatter([x1,x2], [y,y])\n",
    "\n",
    "va_options = ['top', 'bottom', 'center']\n",
    "ha_options = ['left', 'right', 'center']\n",
    "\n",
    "counter = 0 # for color cycling\n",
    "for va in va_options:\n",
    "    for ha in ha_options:\n",
    "        # first letter of each option\n",
    "        label = va[0] + \"-\" + ha[0]\n",
    "        \n",
    "        # assign label to point\n",
    "        x = x1\n",
    "        if 'c' in label:\n",
    "            x = x2\n",
    "        \n",
    "        ax.text(x, y,\n",
    "                label,\n",
    "                va = va,\n",
    "                ha = ha,\n",
    "                fontsize = 20,\n",
    "                color = 'C'+str(counter))\n",
    "        counter += 1\n",
    "\n",
    "ax.axis('off')\n",
    "#truncate\n",
    "plt.tight_layout()\n",
    "plt.savefig(\"text-align.pdf\")\n",
    "plt.show()"
   ]
  },
  {
   "cell_type": "code",
   "execution_count": null,
   "id": "0d4f818c",
   "metadata": {},
   "outputs": [],
   "source": [
    "savepy('text-align')"
   ]
  },
  {
   "cell_type": "code",
   "execution_count": null,
   "id": "ba9c55c3",
   "metadata": {},
   "outputs": [],
   "source": [
    "# not included anymore\n",
    "fig, ax = plt.figure(facecolor = 'lightyellow'), plt.axes()\n",
    "\n",
    "ax.set_xlim([0,10])\n",
    "ax.set_ylim([0,10])\n",
    "\n",
    "fig.text(0.5, 0.5, 'Z', \n",
    "    ha = 'center', va = 'center', \n",
    "    color = 'C0', fontsize = 50)\n",
    "ax.text(0.5, 0.5, 'Z', \n",
    "    transform = ax.transAxes, \n",
    "    ha = 'center', va = 'center',\n",
    "    color = 'C1', fontsize = 50)\n",
    "#truncate\n",
    "plt.tight_layout()\n",
    "#plt.savefig(\"texttransform1.pdf\")\n",
    "plt.show()"
   ]
  },
  {
   "cell_type": "code",
   "execution_count": null,
   "id": "78cff25e",
   "metadata": {},
   "outputs": [],
   "source": [
    "x = np.linspace(0,10)\n",
    "fig, ax = plt.figure(), plt.axes()\n",
    "ax.plot(x,x)\n",
    "ax.set_aspect(2)\n",
    "ax.text(5,5,\n",
    "       'Hello, world!',\n",
    "       rotation = 45)\n",
    "#truncate\n",
    "plt.tight_layout()\n",
    "plt.savefig(\"text-rotation2.pdf\")\n",
    "plt.show()"
   ]
  },
  {
   "cell_type": "code",
   "execution_count": null,
   "id": "de6fd86c",
   "metadata": {},
   "outputs": [],
   "source": [
    "savepy('text-rotation2')"
   ]
  },
  {
   "cell_type": "code",
   "execution_count": null,
   "id": "fbaf193a",
   "metadata": {},
   "outputs": [],
   "source": [
    "x = np.linspace(0,10)\n",
    "fig, ax = plt.figure(), plt.axes()\n",
    "ax.plot(x,x)\n",
    "ax.set_aspect(1)\n",
    "ax.text(5,5,\n",
    "       'Hello, world!',\n",
    "       rotation = 45)\n",
    "#truncate\n",
    "plt.tight_layout()\n",
    "plt.savefig(\"text-rotation1.pdf\")\n",
    "plt.show()"
   ]
  },
  {
   "cell_type": "code",
   "execution_count": null,
   "id": "73ec7e0f",
   "metadata": {},
   "outputs": [],
   "source": [
    "savepy('text-rotation1')"
   ]
  },
  {
   "cell_type": "code",
   "execution_count": null,
   "id": "d252f3ce",
   "metadata": {},
   "outputs": [],
   "source": [
    "x = np.linspace(0,10)\n",
    "fig, ax = plt.figure(), plt.axes()\n",
    "ax.plot(x,x)\n",
    "ax.set_aspect(0.5)\n",
    "ax.text(5,5,\n",
    "       'Wello, horld!',\n",
    "       rotation = 45)\n",
    "#truncate\n",
    "plt.tight_layout()\n",
    "plt.savefig(\"text-rotation05.pdf\")\n",
    "plt.show()"
   ]
  },
  {
   "cell_type": "code",
   "execution_count": null,
   "id": "e57c3bbd",
   "metadata": {},
   "outputs": [],
   "source": [
    "savepy('text-rotation05')"
   ]
  },
  {
   "cell_type": "code",
   "execution_count": null,
   "id": "6839010d",
   "metadata": {},
   "outputs": [],
   "source": [
    "## formatting"
   ]
  },
  {
   "cell_type": "code",
   "execution_count": null,
   "id": "107943a5",
   "metadata": {},
   "outputs": [],
   "source": [
    "for i in range(3):\n",
    "    fig, ax = plt.figure(), plt.axes()\n",
    "    label = '{:0>4}'.format(i)\n",
    "    ax.set_title(\"Plot \" + label, \n",
    "                 fontname = 'Courier New',\n",
    "                 weight = 'bold',\n",
    "                 fontsize = 30)\n",
    "    fig.tight_layout()\n",
    "    fig.savefig(label + \".pdf\")\n",
    "    plt.show()"
   ]
  },
  {
   "cell_type": "code",
   "execution_count": null,
   "id": "20e99110",
   "metadata": {},
   "outputs": [],
   "source": [
    "savepy(\"text-formatting\")"
   ]
  },
  {
   "cell_type": "code",
   "execution_count": null,
   "id": "9b16d9a4",
   "metadata": {},
   "outputs": [],
   "source": [
    "fig, ax = plt.figure(), plt.axes()\n",
    "x = np.linspace(0,2*np.pi,100)\n",
    "\n",
    "# Label in one go\n",
    "ax.plot(x, np.sin(x), label = 'sine')\n",
    "\n",
    "# Label as Artist method\n",
    "cos, = ax.plot(x, np.cos(x))\n",
    "cos.set_label('cosine')\n",
    "\n",
    "# Label as Artist method\n",
    "sine3 = ax.plot(x, np.sin(x)**3)\n",
    "sine3[0].set_label(r'sine$^3$')\n",
    "\n",
    "# Construct legend\n",
    "ax.legend()\n",
    "#truncate\n",
    "plt.tight_layout()\n",
    "plt.savefig(\"legend-labels.pdf\")\n",
    "plt.show()"
   ]
  },
  {
   "cell_type": "code",
   "execution_count": null,
   "id": "b8cf3310",
   "metadata": {},
   "outputs": [],
   "source": [
    "savepy(\"legend-labels\")"
   ]
  },
  {
   "cell_type": "code",
   "execution_count": null,
   "id": "fe88b91d",
   "metadata": {},
   "outputs": [],
   "source": [
    "# Construct DataFrame\n",
    "n = 100\n",
    "sqrts = np.concatenate([np.zeros(1),np.ones(n).cumsum()**0.5] )\n",
    "ser1 = pd.Series(data = -sqrts, name = 'Lower Bound')\n",
    "ser2 = pd.Series(data = sqrts, name = 'Upper Bound')\n",
    "df = pd.DataFrame([ser1,ser2]).T\n",
    "\n",
    "# Add random walk\n",
    "df['Walk'] = np.concatenate([np.zeros(1),np.random.normal(size = n).cumsum()])\n",
    "\n",
    "# Plot\n",
    "fig, ax = plt.subplots()\n",
    "df['Lower Bound'].plot(color = 'black', label = 'Boundary')\n",
    "df['Upper Bound'].plot(color = 'black', label = '_nolegend_')\n",
    "df['Walk'].plot()\n",
    "\n",
    "ax.legend()\n",
    "#truncate\n",
    "plt.tight_layout()\n",
    "plt.savefig(\"pd-legend.pdf\")\n",
    "plt.show()"
   ]
  },
  {
   "cell_type": "code",
   "execution_count": null,
   "id": "262e3a34",
   "metadata": {},
   "outputs": [],
   "source": [
    "savepy(\"pd-legend\")"
   ]
  },
  {
   "cell_type": "code",
   "execution_count": null,
   "id": "06b1e076",
   "metadata": {},
   "outputs": [],
   "source": [
    "fig, ax = plt.figure(), plt.axes()\n",
    "x = np.linspace(0,2*np.pi,100)\n",
    "ax.plot(x, np.sin(x), label = 'sine')\n",
    "ax.plot(x, np.cos(x), label = 'cosine')\n",
    "ax.plot(x, np.sin(x)**3, label = r'sine$^3$')\n",
    "\n",
    "# Construct legend\n",
    "ax.legend(bbox_to_anchor = (0.5,1))\n",
    "#truncate\n",
    "plt.tight_layout()\n",
    "plt.savefig(\"legend-bb.pdf\")\n",
    "plt.show()"
   ]
  },
  {
   "cell_type": "code",
   "execution_count": null,
   "id": "4d7fbb65",
   "metadata": {},
   "outputs": [],
   "source": [
    "savepy('legend-bb')"
   ]
  },
  {
   "cell_type": "code",
   "execution_count": null,
   "id": "d39e0d4d",
   "metadata": {},
   "outputs": [],
   "source": [
    "fig, ax = plt.figure(), plt.axes()\n",
    "x = np.linspace(0,2*np.pi,100)\n",
    "ax.plot(x, np.sin(x), label = 'sine')\n",
    "ax.plot(x, np.cos(x), label = 'cosine')\n",
    "ax.plot(x, np.sin(x)**3, label = r'sine$^3$')\n",
    "\n",
    "# Construct legend\n",
    "ax.legend(bbox_to_anchor = (0.5,1),\n",
    "          loc = 'lower right')\n",
    "#truncate\n",
    "plt.tight_layout()\n",
    "plt.savefig(\"legend-bb-loc.pdf\")\n",
    "plt.show()"
   ]
  },
  {
   "cell_type": "code",
   "execution_count": null,
   "id": "431f5df8",
   "metadata": {},
   "outputs": [],
   "source": [
    "savepy(\"legend-bb-loc\")"
   ]
  },
  {
   "cell_type": "code",
   "execution_count": null,
   "id": "3441b23c",
   "metadata": {},
   "outputs": [],
   "source": [
    "fig, ax = plt.figure(facecolor = 'lightgray'), plt.axes()\n",
    "x = np.linspace(0,2*np.pi,100)\n",
    "ax.plot(x, np.sin(x), label = 'sine')\n",
    "ax.plot(x, np.cos(x), label = 'cosine')\n",
    "ax.plot(x, np.sin(x)**3, label = r'sine$^3$')\n",
    "\n",
    "# Construct legend\n",
    "ax.legend(bbox_to_anchor = (0.5,0),\n",
    "          loc = 'lower center',\n",
    "          bbox_transform = fig.transFigure)\n",
    "#truncate\n",
    "plt.tight_layout()\n",
    "plt.savefig(\"legend-transform.pdf\")\n",
    "plt.show()"
   ]
  },
  {
   "cell_type": "code",
   "execution_count": null,
   "id": "e7924e85",
   "metadata": {},
   "outputs": [],
   "source": [
    "savepy(\"legend-transform\")"
   ]
  },
  {
   "cell_type": "code",
   "execution_count": null,
   "id": "8efa7ee9",
   "metadata": {},
   "outputs": [],
   "source": [
    "fig, ax = plt.figure(), plt.axes()\n",
    "\n",
    "x = np.linspace(0,2*np.pi,100)\n",
    "\n",
    "ax.plot(x, np.sin(x), label = 'sine')\n",
    "ax.plot(x, np.cos(x), label = 'cosine')\n",
    "ax.plot(x, np.sin(x)**3, label = r'sine$^3$')\n",
    "\n",
    "# Construct legend\n",
    "ax.legend(bbox_to_anchor = (0.5,-0.3),\n",
    "          loc = 'lower center',\n",
    "          ncol = 3,\n",
    "          facecolor = 'lightgray',\n",
    "          edgecolor = 'gray',\n",
    "          shadow = True,\n",
    "          title = 'Legend')\n",
    "#truncate\n",
    "plt.tight_layout()\n",
    "plt.savefig(\"legend-shape.pdf\")\n",
    "plt.show()"
   ]
  },
  {
   "cell_type": "code",
   "execution_count": null,
   "id": "93973708",
   "metadata": {},
   "outputs": [],
   "source": [
    "savepy('legend-shape')"
   ]
  },
  {
   "cell_type": "code",
   "execution_count": null,
   "id": "22f52da3",
   "metadata": {},
   "outputs": [],
   "source": [
    "fig, ax = plt.figure(), plt.axes()\n",
    "x = np.arange(-10,6,1)\n",
    "past = x[x<=0]\n",
    "future = x[x>=0]\n",
    "\n",
    "y_historical = np.random.normal(0,1,size = len(past))\n",
    "y_projected = np.concatenate([y_historical[-1:], \n",
    "                    np.random.normal(0,3, size = len(future)-1)])\n",
    "\n",
    "z_historical = np.random.normal(1,1,size = len(past))\n",
    "z_projected = np.concatenate([z_historical[-1:], \n",
    "                    np.random.normal(3,1, size = len(future)-1)])\n",
    "\n",
    "ax.plot(past, y_historical)\n",
    "ax.plot(future, y_projected, linestyle = 'dashed', color = 'C0')\n",
    "\n",
    "ax.plot(past, z_historical, color = 'C1')\n",
    "ax.plot(future, z_projected, linestyle = 'dashed', color = 'C1')\n",
    "\n",
    "# Label Data\n",
    "ax.text(future[-1], y_projected[-1],\n",
    "        s = 'Series A', \n",
    "        va = 'center',\n",
    "        color = 'C0',\n",
    "        size = 13)\n",
    "ax.text(future[-1], z_projected[-1],\n",
    "        s = 'Series B', \n",
    "        va = 'center',\n",
    "        color = 'C1',\n",
    "        size = 13)\n",
    "\n",
    "ax.set_xlim(ax.get_xlim()[0], 9)\n",
    "ax.set_title(\"Two Lines Zero Legends\")\n",
    "#truncate\n",
    "plt.tight_layout()\n",
    "plt.savefig(\"label-data.pdf\")\n",
    "plt.show()"
   ]
  },
  {
   "cell_type": "code",
   "execution_count": null,
   "id": "94f9b49e",
   "metadata": {},
   "outputs": [],
   "source": [
    "savepy('label-data')"
   ]
  },
  {
   "cell_type": "code",
   "execution_count": null,
   "id": "8001ffa2",
   "metadata": {},
   "outputs": [],
   "source": [
    "fig, ax = plt.figure(), plt.axes()\n",
    "\n",
    "x = np.linspace(0,1,100) # Pr(heads)\n",
    "x = x[(x!=0) & (x!=1)]\n",
    "entropy = -x*np.log2(x) - (1-x)*np.log2(1-x)\n",
    "ax.plot(x,entropy)\n",
    "ax.annotate('fair coin',\n",
    "            xy = (0.5,1),\n",
    "            xytext = (0.5, 0.1),\n",
    "            arrowprops=dict(facecolor='white',\n",
    "                            edgecolor = 'black',\n",
    "                            width = 3, \n",
    "                            headwidth = 10,\n",
    "                            linewidth = 1), \n",
    "           ha = 'center',\n",
    "           va= 'top', # text alignment around xytext\n",
    "           size = 12)\n",
    "\n",
    "ax.set_title(\"Coin Flip Entropy\")\n",
    "#truncate\n",
    "plt.tight_layout()\n",
    "plt.savefig(\"annotate-arrow.pdf\")\n",
    "plt.show()"
   ]
  },
  {
   "cell_type": "code",
   "execution_count": null,
   "id": "453e54cb",
   "metadata": {},
   "outputs": [],
   "source": [
    "savepy('annotate-arrow')"
   ]
  },
  {
   "cell_type": "code",
   "execution_count": null,
   "id": "e3f381cc",
   "metadata": {},
   "outputs": [],
   "source": [
    "fig, ax = plt.figure(),  plt.axes()\n",
    "\n",
    "# no arrow, no text\n",
    "# this does nothing\n",
    "ax.annotate('',\n",
    "            xy = (0.1, 0.8),\n",
    "            xytext = (0.9, 0.9))\n",
    "\n",
    "# arrow\n",
    "ax.annotate('', xy = (0.2, 0.2),\n",
    "            xytext = (0.8, 0.2),\n",
    "            arrowprops = dict(color = 'black'))\n",
    "#truncate\n",
    "plt.tight_layout()\n",
    "plt.savefig(\"arrow-only.pdf\")\n",
    "plt.show()"
   ]
  },
  {
   "cell_type": "code",
   "execution_count": null,
   "id": "3af59497",
   "metadata": {},
   "outputs": [],
   "source": [
    "savepy('arrow-only')"
   ]
  },
  {
   "cell_type": "code",
   "execution_count": null,
   "id": "0a092f3a",
   "metadata": {},
   "outputs": [],
   "source": [
    "fig, ax = plt.figure(), plt.axes()\n",
    "x = np.arange(-10,6,1)\n",
    "past = x[x<=0]\n",
    "future = x[x>=0]\n",
    "y_historical = np.random.normal(0,1,size = len(past))\n",
    "y_projected = np.concatenate([y_historical[-1:], \n",
    "                    np.random.normal(0,3, size = len(future)-1)])\n",
    "z_historical = np.random.normal(1,1,size = len(past))\n",
    "z_projected = np.concatenate([z_historical[-1:], \n",
    "                    np.random.normal(3,1, size = len(future)-1)])\n",
    "ax.plot(past, y_historical)\n",
    "a_line, = ax.plot(future, y_projected, linestyle = 'dashed', color = 'C0')\n",
    "ax.plot(past, z_historical, color = 'C1')\n",
    "b_line, = ax.plot(future, z_projected, linestyle = 'dashed', color = 'C1')\n",
    "\n",
    "# Label Data\n",
    "ax.annotate('Series A',\n",
    "            xy = (1, y_projected[-1]),\n",
    "            xycoords = (a_line, 'data'), \n",
    "            color = 'C0',\n",
    "            size = 12)\n",
    "\n",
    "ax.annotate('Series B',\n",
    "            xy = (1, z_projected[-1]),\n",
    "            xycoords = (b_line, 'data'), \n",
    "            color = 'C1',\n",
    "            size = 12)\n",
    "\n",
    "ax.set_xlim(ax.get_xlim()[0], 9)\n",
    "ax.set_title(\"Two Lines Zero Legends\")\n",
    "#truncate\n",
    "plt.tight_layout()\n",
    "plt.savefig(\"direct-annotation.pdf\")\n",
    "plt.show()"
   ]
  },
  {
   "cell_type": "code",
   "execution_count": null,
   "id": "6dd9b029",
   "metadata": {},
   "outputs": [],
   "source": [
    "savepy('direct-annotation')"
   ]
  },
  {
   "cell_type": "code",
   "execution_count": null,
   "id": "0edd7c9f",
   "metadata": {},
   "outputs": [],
   "source": [
    "## fancy titles"
   ]
  },
  {
   "cell_type": "code",
   "execution_count": null,
   "id": "01e14a51",
   "metadata": {},
   "outputs": [],
   "source": [
    "x = np.linspace(0,2,2)\n",
    "fig, ax = plt.figure(), plt.axes()\n",
    "ax.plot(x,x)\n",
    "\n",
    "ax.set_title(\"Title\", \n",
    "             weight = 'bold', \n",
    "             color = 'purple', \n",
    "             pad = 24) \n",
    "\n",
    "ax.text(0.5, 1.05,\n",
    "        s = '(Parenthetical)',\n",
    "        transform = ax.transAxes,\n",
    "        ha = 'center')\n",
    "#truncate\n",
    "plt.tight_layout()\n",
    "plt.savefig(\"subtitle.pdf\")\n",
    "plt.show()"
   ]
  },
  {
   "cell_type": "code",
   "execution_count": null,
   "id": "fe35d019",
   "metadata": {},
   "outputs": [],
   "source": [
    "savepy('subtitle')"
   ]
  },
  {
   "cell_type": "code",
   "execution_count": null,
   "id": "bf95aecb",
   "metadata": {},
   "outputs": [],
   "source": [
    "x = range(101)\n",
    "\n",
    "# Create a Gaussian random walk starting at 0\n",
    "start = np.zeros(1)\n",
    "y1 = np.concatenate( [start,np.random.normal(0,1,100)] ).cumsum()\n",
    "y2 = np.concatenate( [start,np.random.normal(0,1,100)] ).cumsum()\n",
    "\n",
    "fig, ax = plt.figure(), plt.axes()\n",
    "plt.tight_layout()\n",
    "# Color arguments added to make defaults explicit\n",
    "ax.plot(x,y1, color = 'C0')\n",
    "ax.plot(x,y2, color = 'C1')\n",
    "\n",
    "ax.text(0.4, 1.05, ' GenericCo', \n",
    "        transform = ax.transAxes, \n",
    "        ha = 'left', \n",
    "        fontsize = 13,\n",
    "        color = 'C0')\n",
    "\n",
    "ax.text(0.4, 1.05, 'Stock Performance:', \n",
    "        transform = ax.transAxes, \n",
    "        ha = 'right', \n",
    "        fontsize = 13,\n",
    "        color = 'black')\n",
    "\n",
    "ax.text(0.64, 1.05, '&', \n",
    "        transform = ax.transAxes, \n",
    "        ha = 'right', \n",
    "        fontsize = 13,\n",
    "        color = 'black')\n",
    "\n",
    "ax.text(0.64, 1.05, ' PerfunctoryInc', \n",
    "        transform = ax.transAxes, \n",
    "        ha = 'left', \n",
    "        fontsize = 13,\n",
    "        color = 'C1')\n",
    "#truncate\n",
    "plt.savefig(\"multicolor-inexact.pdf\")"
   ]
  },
  {
   "cell_type": "code",
   "execution_count": null,
   "id": "628493d7",
   "metadata": {},
   "outputs": [],
   "source": [
    "savepy('multicolor-inexact')"
   ]
  },
  {
   "cell_type": "code",
   "execution_count": null,
   "id": "4ebc1302",
   "metadata": {},
   "outputs": [],
   "source": [
    "def color_title(labels, colors, textprops ={'size':'large'}, ax = None, y = 1.013,\n",
    "               precision = 10**-2):\n",
    "     \n",
    "    \"Creates a centered title with multiple colors. \"\n",
    "        \n",
    "    if ax == None:\n",
    "        ax = plt.gca()\n",
    "        \n",
    "    plt.gcf().canvas.draw()\n",
    "    transform = ax.transAxes # use axes coords\n",
    "    \n",
    "    # initial params\n",
    "    xT = 0 # where the text ends in x-axis coords\n",
    "    shift = 0 # where the text starts\n",
    "    \n",
    "    # for text objects\n",
    "    text = dict()\n",
    "\n",
    "    while (np.abs(shift - (1-xT)) > precision) and (shift <= xT) :         \n",
    "        x_pos = shift \n",
    "        \n",
    "        for label, col in zip(labels, colors):\n",
    "\n",
    "            try:\n",
    "                text[label].remove()\n",
    "            except KeyError:\n",
    "                pass\n",
    "            \n",
    "            text[label] = ax.text(x_pos, y, label, \n",
    "                        transform = transform, \n",
    "                        ha = 'left',\n",
    "                        color = col,\n",
    "                        **textprops)\n",
    "            \n",
    "            x_pos = text[label].get_window_extent()\\\n",
    "                   .transformed(transform.inverted()).x1\n",
    "            \n",
    "        xT = x_pos # where all text ends\n",
    "        \n",
    "        shift += precision/2 # increase for next iteration\n",
    "      \n",
    "        if x_pos > 1: # guardrail \n",
    "            break"
   ]
  },
  {
   "cell_type": "code",
   "execution_count": null,
   "id": "1c4d412c",
   "metadata": {},
   "outputs": [],
   "source": [
    "savepy('color-title')"
   ]
  },
  {
   "cell_type": "code",
   "execution_count": null,
   "id": "d6548ad2",
   "metadata": {},
   "outputs": [],
   "source": [
    "x = range(101)\n",
    "# Create a Gaussian random walk starting at 0\n",
    "start = np.zeros(1)\n",
    "y1 = np.concatenate( [start,np.random.normal(0,1,100)] ).cumsum()\n",
    "y2 = np.concatenate( [start,np.random.normal(0,1,100)] ).cumsum()\n",
    "\n",
    "fig, ax = plt.figure(), plt.axes()\n",
    "plt.tight_layout()\n",
    "# Color arguments added to make defaults explicit\n",
    "ax.plot(x,y1, color = 'C0')\n",
    "ax.plot(x,y2, color = 'C1')\n",
    "\n",
    "labels = ['Stock Performance: ', 'GenericCo', ' & ', 'PerfunctoryInc']\n",
    "colors = ['black', 'C0', 'black', 'C1']\n",
    "color_title(labels, colors)\n",
    "#truncate\n",
    "plt.savefig(\"color-title-ex.pdf\")"
   ]
  },
  {
   "cell_type": "code",
   "execution_count": null,
   "id": "48d0d05c",
   "metadata": {},
   "outputs": [],
   "source": [
    "savepy('color-title-ex')"
   ]
  },
  {
   "cell_type": "code",
   "execution_count": null,
   "id": "e692822b",
   "metadata": {},
   "outputs": [],
   "source": [
    "## fonts"
   ]
  },
  {
   "cell_type": "code",
   "execution_count": null,
   "id": "7c62b994",
   "metadata": {},
   "outputs": [],
   "source": [
    "cd = %pwd\n",
    "%cd ~\n",
    "%pwd"
   ]
  },
  {
   "cell_type": "code",
   "execution_count": null,
   "id": "3d68df57",
   "metadata": {},
   "outputs": [],
   "source": [
    "# font download \n",
    "# https://fonts.google.com/specimen/Pacifico\n",
    "# access font and add to font manager\n",
    "font_dirs = ['Downloads/Pacifico'] # change depending on where you downloaded it\n",
    "font_files = font_manager.findSystemFonts(fontpaths=font_dirs)\n",
    "for font_file in font_files:\n",
    "    font_manager.fontManager.addfont(font_file)\n",
    "\n",
    "# Make Figure\n",
    "fig, ax  = plt.figure(), plt.axes()\n",
    "t = fig.text(0.5,0.5,\n",
    "             'Live Laugh Love',\n",
    "             ha = 'center',\n",
    "             va = 'center')\n",
    "ax.axis('off')\n",
    "t.set_size(50)\n",
    "t.set_name(\"Pacifico\")\n",
    "t.set_color('yellow')\n",
    "fig.set_facecolor('brown')\n",
    "#truncate\n",
    "%cd $cd\n",
    "plt.tight_layout()\n",
    "plt.savefig(\"font.pdf\")\n",
    "plt.show()"
   ]
  },
  {
   "cell_type": "code",
   "execution_count": null,
   "id": "d862d48a",
   "metadata": {},
   "outputs": [],
   "source": [
    "savepy('font')"
   ]
  },
  {
   "cell_type": "code",
   "execution_count": null,
   "id": "44ba7594",
   "metadata": {},
   "outputs": [],
   "source": [
    "t.get_font().__dict__"
   ]
  },
  {
   "cell_type": "code",
   "execution_count": null,
   "id": "e38ef814",
   "metadata": {},
   "outputs": [],
   "source": [
    "font_list = font_manager.get_font_names()\n",
    "for f in font_list:\n",
    "    plt.plot()\n",
    "    plt.gcf().text(0.5, 0.5,\n",
    "                   s = f,\n",
    "                   size = 20,\n",
    "                   ha = 'center',\n",
    "                   fontname = f)\n",
    "    plt.axis('off')\n",
    "    plt.show()"
   ]
  },
  {
   "cell_type": "code",
   "execution_count": null,
   "id": "62b091bd",
   "metadata": {},
   "outputs": [],
   "source": [
    "savepy(\"get-fonts\")"
   ]
  },
  {
   "cell_type": "code",
   "execution_count": null,
   "id": "29099b7b",
   "metadata": {},
   "outputs": [],
   "source": [
    "# DATES"
   ]
  },
  {
   "cell_type": "code",
   "execution_count": null,
   "id": "6fd98985",
   "metadata": {},
   "outputs": [],
   "source": [
    "url = 'https://github.com/alexanderthclark/MPL-Data/raw/main/WeatherAug1415Trends.csv'\n",
    "df = pd.read_csv(url, parse_dates = ['Time'])\n",
    "\n",
    "fig, ax = plt.figure(), plt.axes()\n",
    "df.set_index(\"Time\").plot(ax = ax)\n",
    "ax.set_title(\"Searches for \\\"weather\\\" spike in the morning.\") \n",
    "ax.legend().set_visible(False)\n",
    "#truncate\n",
    "plt.tight_layout()\n",
    "plt.savefig(\"pd-dates.pdf\")\n",
    "plt.show()"
   ]
  },
  {
   "cell_type": "code",
   "execution_count": null,
   "id": "d797ed52",
   "metadata": {},
   "outputs": [],
   "source": [
    "savepy(\"pd-dates\")"
   ]
  },
  {
   "cell_type": "code",
   "execution_count": null,
   "id": "102bbb19",
   "metadata": {},
   "outputs": [],
   "source": [
    "fig, ax = plt.figure(), plt.axes()\n",
    "ax.plot(df.Time, df.weather)\n",
    "#truncate\n",
    "plt.tight_layout()\n",
    "plt.savefig(\"ax-dates.pdf\")\n",
    "plt.show()"
   ]
  },
  {
   "cell_type": "code",
   "execution_count": null,
   "id": "8963a9c7",
   "metadata": {},
   "outputs": [],
   "source": [
    "savepy('ax-dates')"
   ]
  },
  {
   "cell_type": "code",
   "execution_count": null,
   "id": "301416f2",
   "metadata": {},
   "outputs": [],
   "source": [
    "# Discouraged\n",
    "url = 'https://github.com/alexanderthclark/MPL-Data/raw/main/WeatherAug1415Trends.csv'\n",
    "df = pd.read_csv(url, parse_dates = ['Time'])\n",
    "\n",
    "fig, ax = plt.figure(), plt.axes()\n",
    "\n",
    "ax.plot_date(df.Time, df.weather)\n",
    "ax.set_title(\"Searches for \\\"weather\\\" spike in the morning.\") "
   ]
  },
  {
   "cell_type": "code",
   "execution_count": null,
   "id": "57d90901",
   "metadata": {},
   "outputs": [],
   "source": [
    "fig, ax = plt.figure(), plt.axes()\n",
    "xformatter = mdates.DateFormatter('%H:%M')\n",
    "ax.plot(df.Time, df.weather)\n",
    "ax.set_title(\"Searches for \\\"weather\\\" spike in the morning.\")\n",
    "ax.set_xlabel(\"Time (UTC)\")\n",
    "ax.xaxis.set_major_formatter(xformatter)\n",
    "#truncate\n",
    "plt.tight_layout()\n",
    "plt.savefig(\"date-fmt.pdf\")\n",
    "plt.show()"
   ]
  },
  {
   "cell_type": "code",
   "execution_count": null,
   "id": "bd7c6c6f",
   "metadata": {},
   "outputs": [],
   "source": [
    "savepy('date-fmt')"
   ]
  },
  {
   "cell_type": "code",
   "execution_count": null,
   "id": "e9c88a74",
   "metadata": {},
   "outputs": [],
   "source": [
    "fig, ax = plt.figure(), plt.axes()\n",
    "xformatter = mdates.DateFormatter('%-I%p')\n",
    "ax.plot(df.Time, df.weather)\n",
    "ax.set_title(\"Searches for \\\"weather\\\" spike in the morning.\")\n",
    "ax.set_xlabel(\"Time (UTC)\")\n",
    "ax.xaxis.set_major_formatter(xformatter)\n",
    "#truncate\n",
    "plt.tight_layout()\n",
    "plt.savefig(\"date-fmt2.pdf\")\n",
    "plt.show()"
   ]
  },
  {
   "cell_type": "code",
   "execution_count": null,
   "id": "d6894e83",
   "metadata": {},
   "outputs": [],
   "source": [
    "savepy('date-fmt2')"
   ]
  },
  {
   "cell_type": "code",
   "execution_count": null,
   "id": "27e41993",
   "metadata": {},
   "outputs": [],
   "source": [
    "# COLORS chapter"
   ]
  },
  {
   "cell_type": "code",
   "execution_count": null,
   "id": "c1e0bf57",
   "metadata": {},
   "outputs": [],
   "source": [
    "fig, ax = plt.figure(), plt.axes()\n",
    "for i in range(12):\n",
    "    # Plot color automatically cycles through color map\n",
    "    ax.plot([0,1], np.ones(2)*i)\n",
    "    \n",
    "    # Text with default color on the left\n",
    "    ax.text(0, i, 'C' + str(i), \n",
    "    va = 'center', ha = 'right')\n",
    "    \n",
    "    # Text with variable color on the right\n",
    "    ax.text(1, i, 'C' + str(i), \n",
    "    va = 'center', ha = 'left',\n",
    "    color = 'C'+str(i))\n",
    "ax.axis('off')\n",
    "#truncate\n",
    "plt.tight_layout()\n",
    "plt.savefig(\"colors.pdf\")\n",
    "plt.show()"
   ]
  },
  {
   "cell_type": "code",
   "execution_count": null,
   "id": "7885d8ec",
   "metadata": {},
   "outputs": [],
   "source": [
    "savepy('colors')"
   ]
  },
  {
   "cell_type": "code",
   "execution_count": null,
   "id": "f328fb61",
   "metadata": {},
   "outputs": [],
   "source": [
    "# Set Colors\n",
    "green = 76, 217, 100\n",
    "green = np.array(green)/255\n",
    "blue = 90, 200, 250\n",
    "blue = np.array(blue)/255\n",
    "\n",
    "# How many color changes\n",
    "segments = 100\n",
    "interval_starts = np.linspace(0, 1, segments)\n",
    "\n",
    "fig, ax = plt.subplots(figsize = (8,8))\n",
    "\n",
    "colors = dict()\n",
    "for i in range(3):\n",
    "    colors[i] = np.linspace(blue[i], green[i], segments)\n",
    "    \n",
    "for i in range(segments-1):\n",
    "    rgb = colors[0][i], colors[1][i], colors[2][i]\n",
    "    x = interval_starts[i], interval_starts[i+1]\n",
    "    y = (0.5, 0.5)\n",
    "    ax.plot(x, y, color = rgb,\n",
    "            linewidth = 20, \n",
    "            solid_capstyle = 'round')\n",
    "\n",
    "ax.set_aspect('equal')\n",
    "ax.axis('off')\n",
    "#truncate\n",
    "plt.tight_layout()\n",
    "plt.savefig(\"gradient.pdf\")\n",
    "plt.show()"
   ]
  },
  {
   "cell_type": "code",
   "execution_count": null,
   "id": "6dbe267d",
   "metadata": {},
   "outputs": [],
   "source": [
    "savepy('gradient')"
   ]
  },
  {
   "cell_type": "code",
   "execution_count": null,
   "id": "5bd4234d",
   "metadata": {},
   "outputs": [],
   "source": [
    "# Set Colors\n",
    "blue = mpl.colors.ColorConverter().to_rgb('C0')\n",
    "orange = mpl.colors.ColorConverter().to_rgb('C1')\n",
    "\n",
    "n_colors = 10\n",
    "color_strings = dict()\n",
    "for i in range(n_colors):\n",
    "    color_strings[i] = 'C'+str(i)\n",
    "segments = 1000 # How many color changes\n",
    "\n",
    "fig, ax = plt.subplots(figsize = (14,8))\n",
    "\n",
    "for c in range(n_colors - 1):\n",
    "    color1 = mpl.colors.ColorConverter().to_rgb(color_strings[c])\n",
    "    color2 = mpl.colors.ColorConverter().to_rgb(color_strings[c+1])\n",
    "    \n",
    "    interval_starts = np.linspace(c, c+1, segments)\n",
    "    colors = dict()\n",
    "    for i in range(3):\n",
    "        colors[i] = np.linspace(color1[i], color2[i], segments)\n",
    "\n",
    "    for i in range(segments-1):\n",
    "\n",
    "        rgb = colors[0][i], colors[1][i], colors[2][i]\n",
    "\n",
    "        x = interval_starts[i], interval_starts[i+1]\n",
    "        y = [0.3,0.5]\n",
    "\n",
    "        ax.plot(x, y,\n",
    "                color = rgb,\n",
    "                linewidth = 20, \n",
    "                solid_capstyle = 'round')\n",
    "    \n",
    "    ax.text(c, .51,\n",
    "            s = 'C'+str(c),\n",
    "            va = 'bottom',\n",
    "            size = 12,\n",
    "            ha = 'center')\n",
    "        \n",
    "ax.text(9, .51,\n",
    "        s = 'C9',\n",
    "        va = 'bottom',\n",
    "        size = 12,\n",
    "        ha = 'center')\n",
    "\n",
    "ax.set_aspect('equal')\n",
    "ax.axis('off')\n",
    "#truncate\n",
    "plt.tight_layout()\n",
    "plt.savefig(\"color-map.pdf\")\n",
    "plt.show()"
   ]
  },
  {
   "cell_type": "code",
   "execution_count": null,
   "id": "4de8570b",
   "metadata": {},
   "outputs": [],
   "source": [
    "savepy(\"color-map\")"
   ]
  },
  {
   "cell_type": "code",
   "execution_count": null,
   "id": "3e018469",
   "metadata": {},
   "outputs": [],
   "source": [
    "light_gray = [.98]*3\n",
    "fig = plt.figure(figsize = (6,6),\n",
    "                 facecolor = light_gray)\n",
    "ax = plt.axes(projection='3d',\n",
    "              facecolor = light_gray)\n",
    "\n",
    "# control how many cubes/color changes\n",
    "pieces = 10 \n",
    "grid = np.linspace(0, 1, pieces)[:-1]\n",
    "width = grid[1] - grid[0]\n",
    "\n",
    "# Make smaller cube units\n",
    "for x in grid:\n",
    "    for y in grid:\n",
    "        for z in grid:\n",
    "            vertices = list()\n",
    "            for prod in product([x,x+width],[y,y+width], [z,z+width]):\n",
    "                vertices.append(list(prod))\n",
    "\n",
    "            faces = list()\n",
    "            for key, face in enumerate([x,y,z]):\n",
    "                # face is 0\n",
    "                helper0 = [x for x in vertices if x[key] == face]\n",
    "                helper1 = [x for x in vertices if x[key] == face + width]\n",
    "                helper0.sort()\n",
    "                helper0 = helper0[0:2] + helper0[::-1][0:2]\n",
    "                helper1.sort()\n",
    "                helper1 = helper1[0:2] + helper1[::-1][0:2]\n",
    "                faces.append((helper0))\n",
    "                faces.append(helper1)\n",
    "\n",
    "            facecolor = (x + width / 2,\n",
    "                         y + width / 2,\n",
    "                         z + width / 2)\n",
    "            pc = Poly3DCollection(faces,\n",
    "                                  facecolor = facecolor,\n",
    "                                  edgecolor = 'black')\n",
    "            ax.add_collection3d(pc) \n",
    "\n",
    "# Label Axes\n",
    "ax.set_xlabel(\"Red\")\n",
    "ax.set_ylabel('Green')\n",
    "ax.set_zlabel(\"Blue\")\n",
    "\n",
    "# Set Ticks\n",
    "ax.set_xticks([0,1])\n",
    "ax.set_yticks([0,1])\n",
    "ax.set_zticks([0,1])\n",
    "# Change padding\n",
    "ax.xaxis.set_tick_params(pad = 0.1)\n",
    "ax.yaxis.set_tick_params(pad = 0.1)\n",
    "ax.zaxis.set_tick_params(pad = 0.1)\n",
    "# Change azimuth\n",
    "angle = 45 # + 180 # for second cube\n",
    "ax.view_init(elev = None, azim = angle)\n",
    "# Zoom out so labels are not cut off\n",
    "ax.set_box_aspect([1,1,1], zoom = 0.86)\n",
    "#truncate\n",
    "plt.tight_layout()\n",
    "plt.savefig(\"color-cube.pdf\")\n",
    "plt.show()"
   ]
  },
  {
   "cell_type": "code",
   "execution_count": null,
   "id": "c3808a08",
   "metadata": {},
   "outputs": [],
   "source": [
    "savepy('color-cube')"
   ]
  },
  {
   "cell_type": "code",
   "execution_count": null,
   "id": "fcc6b6fc",
   "metadata": {},
   "outputs": [],
   "source": [
    "light_gray = [.98]*3\n",
    "fig = plt.figure(figsize = (6,6),\n",
    "                 facecolor = light_gray)\n",
    "ax = plt.axes(projection='3d',\n",
    "              facecolor = light_gray)\n",
    "\n",
    "# control how many cubes/color changes\n",
    "pieces = 10 \n",
    "grid = np.linspace(0, 1, pieces)[:-1]\n",
    "width = grid[1] - grid[0]\n",
    "\n",
    "# Make smaller cube units\n",
    "for x in grid:\n",
    "    for y in grid:\n",
    "        for z in grid:\n",
    "            vertices = list()\n",
    "            for prod in product([x,x+width],[y,y+width], [z,z+width]):\n",
    "                vertices.append(list(prod))\n",
    "\n",
    "            faces = list()\n",
    "            for key, face in enumerate([x,y,z]):\n",
    "                # face is 0\n",
    "                helper0 = [x for x in vertices if x[key] == face]\n",
    "                helper1 = [x for x in vertices if x[key] == face + width]\n",
    "                helper0.sort()\n",
    "                helper0 = helper0[0:2] + helper0[::-1][0:2]\n",
    "                helper1.sort()\n",
    "                helper1 = helper1[0:2] + helper1[::-1][0:2]\n",
    "                faces.append((helper0))\n",
    "                faces.append(helper1)\n",
    "\n",
    "            facecolor = (x + width / 2,\n",
    "                         y + width / 2,\n",
    "                         z + width / 2)\n",
    "            pc = Poly3DCollection(faces,\n",
    "                                  facecolor = facecolor,\n",
    "                                  edgecolor = 'black')\n",
    "            ax.add_collection3d(pc) \n",
    "\n",
    "# Label Axes\n",
    "ax.set_xlabel(\"Red\")\n",
    "ax.set_ylabel('Green')\n",
    "ax.set_zlabel(\"Blue\")\n",
    "\n",
    "# Set Ticks\n",
    "ax.set_xticks([0,1])\n",
    "ax.set_yticks([0,1])\n",
    "ax.set_zticks([0,1])\n",
    "# Change padding\n",
    "ax.xaxis.set_tick_params(pad = 0.1)\n",
    "ax.yaxis.set_tick_params(pad = 0.1)\n",
    "ax.zaxis.set_tick_params(pad = 0.1)\n",
    "# Change azimuth\n",
    "angle = 45 + 180 # for second cube\n",
    "ax.view_init(elev = None, azim = angle)\n",
    "# Zoom out so labels are not cut off\n",
    "ax.set_box_aspect([1,1,1], zoom = 0.86)\n",
    "#truncate\n",
    "plt.tight_layout()\n",
    "plt.savefig(\"color-cube-back.pdf\")\n",
    "plt.show()"
   ]
  },
  {
   "cell_type": "code",
   "execution_count": null,
   "id": "7902a400",
   "metadata": {},
   "outputs": [],
   "source": [
    "#savepy('color-cube-back')"
   ]
  },
  {
   "cell_type": "code",
   "execution_count": null,
   "id": "e1f4c76c",
   "metadata": {},
   "outputs": [],
   "source": [
    "# MULTIPLE PLOTS"
   ]
  },
  {
   "cell_type": "code",
   "execution_count": null,
   "id": "fd3be6ae",
   "metadata": {},
   "outputs": [],
   "source": [
    "fig, ax = plt.figure(), plt.axes()\n",
    "ax.set_xlim(-3.3, 3.3)\n",
    "x = np.linspace(-4, 4, 200)\n",
    "ax.plot(x, stats.norm.pdf(x), \n",
    "        linewidth = 2)\n",
    "ax.set_title(\"Normal Distribution\")\n",
    "\n",
    "# Choose a point\n",
    "z = 0.674\n",
    "pdfz = stats.norm.pdf(z)\n",
    "cdfz = stats.norm.cdf(z)\n",
    "\n",
    "# Indicate point on plot\n",
    "ax.plot([z, z], \n",
    "        [0, pdfz], \n",
    "        color = 'black',\n",
    "        linestyle = 'dashed')\n",
    "ax.plot([z], [pdfz], \n",
    "        color = 'black', \n",
    "        marker = '.')\n",
    "ax.text(z + .1, pdfz,\n",
    "        s = '$z = {:}$'.format(z) )\n",
    "\n",
    "# Create fill to left \n",
    "x_vals = np.linspace(-3,z,100)\n",
    "ax.fill_between(x_vals, \n",
    "                np.zeros(100), \n",
    "                stats.norm.pdf(x_vals),\n",
    "                color = 'gray',\n",
    "                alpha = .2)\n",
    "\n",
    "# Area/cumulative density text\n",
    "ax.text(0, pdfz/2, \n",
    "        s = \"{:.2f}\".format(cdfz), \n",
    "        size = 15,\n",
    "        ha = 'center')\n",
    "\n",
    "# Change axes styling\n",
    "ax.spines['bottom'].set_position('zero')\n",
    "ax.spines['top'].set_visible(False)\n",
    "ax.spines['right'].set_visible(False)\n",
    "#truncate\n",
    "plt.tight_layout()\n",
    "plt.savefig(\"norm-pdf.pdf\")\n",
    "plt.show()"
   ]
  },
  {
   "cell_type": "code",
   "execution_count": null,
   "id": "9357022a",
   "metadata": {},
   "outputs": [],
   "source": [
    "savepy('norm-pdf')"
   ]
  },
  {
   "cell_type": "code",
   "execution_count": null,
   "id": "6fb0e5f7",
   "metadata": {},
   "outputs": [],
   "source": [
    "fig, ax = plt.figure(), plt.axes()\n",
    "x = np.linspace(-3,3,200)\n",
    "pdf_y = stats.norm.pdf(x)\n",
    "cdf_y = stats.norm.cdf(x)\n",
    "ax.plot(x,pdf_y, label = 'PDF')\n",
    "ax.plot(x,cdf_y, label = 'CDF')\n",
    "ax.legend()\n",
    "#truncate\n",
    "plt.tight_layout()\n",
    "plt.savefig(\"cdf-pdf.pdf\")\n",
    "plt.show()"
   ]
  },
  {
   "cell_type": "code",
   "execution_count": null,
   "id": "dd1f987d",
   "metadata": {},
   "outputs": [],
   "source": [
    "savepy('cdf-pdf')"
   ]
  },
  {
   "cell_type": "code",
   "execution_count": null,
   "id": "74e912cf",
   "metadata": {},
   "outputs": [],
   "source": [
    "fig, ax = plt.figure(), plt.axes()\n",
    "ax2 = ax.twinx()\n",
    "\n",
    "x = np.linspace(0,1,2)\n",
    "ax.plot(x, x, label = 'a')\n",
    "ax2.plot(x, 10-x, label = 'b')\n",
    "\n",
    "ax.set_xlabel(\"A Label\")\n",
    "\n",
    "# This does nothing\n",
    "ax2.set_xlabel(\"Label Attempt\")\n",
    "\n",
    "ax.set_ylabel(\"Left Y Label\")\n",
    "ax2.set_ylabel(\"Right Y Label\")\n",
    "\n",
    "ax.set_title(\"Positive Slope\")\n",
    "ax2.set_title(\"Negative Slope\")\n",
    "\n",
    "ax.legend()\n",
    "ax2.legend()\n",
    "fig.legend(facecolor = 'lightyellow')\n",
    "#truncate\n",
    "plt.tight_layout()\n",
    "plt.savefig(\"dual-bad.pdf\")\n",
    "plt.show()"
   ]
  },
  {
   "cell_type": "code",
   "execution_count": null,
   "id": "136fa905",
   "metadata": {},
   "outputs": [],
   "source": [
    "savepy('dual-bad')"
   ]
  },
  {
   "cell_type": "code",
   "execution_count": null,
   "id": "24e12b2b",
   "metadata": {},
   "outputs": [],
   "source": [
    "fig, ax = plt.figure(), plt.axes()\n",
    "ax2 = ax.twinx()\n",
    "\n",
    "x = np.linspace(0,1,2)\n",
    "ax.plot(x, x, label = 'a')\n",
    "ax2.plot(x, 10-x,\n",
    "         label = 'b', \n",
    "         color = 'C2',\n",
    "         linestyle = 'dotted',\n",
    "         linewidth = 2)\n",
    "\n",
    "ax.set_title(\"Title\")\n",
    "\n",
    "ax.set_xlabel(\"A Label\")\n",
    "ax.set_ylabel(\"Left Y Label\\n(a)\")\n",
    "ax2.set_ylabel(\"Right Y Label\\n(b)\")\n",
    "\n",
    "fig.legend(facecolor = 'lightyellow',\n",
    "           bbox_to_anchor = (.5,.92), \n",
    "           ncol = 2,\n",
    "           loc = 'center',\n",
    "           bbox_transform = ax.transAxes)\n",
    "#truncate\n",
    "plt.tight_layout()\n",
    "plt.savefig(\"dual-ok.pdf\")\n",
    "plt.show()"
   ]
  },
  {
   "cell_type": "code",
   "execution_count": null,
   "id": "7de83cdb",
   "metadata": {},
   "outputs": [],
   "source": [
    "savepy('dual-ok')"
   ]
  },
  {
   "cell_type": "code",
   "execution_count": null,
   "id": "c117c24b",
   "metadata": {},
   "outputs": [],
   "source": [
    "fig, ax = plt.figure(), plt.axes()\n",
    "ax2 = ax.twinx()\n",
    "x = np.linspace(-3,3,200)\n",
    "pdf_y = stats.norm.pdf(x)\n",
    "cdf_y = stats.norm.cdf(x)\n",
    "\n",
    "# Plot Curves\n",
    "ax2.plot(x, cdf_y,\n",
    "         color = 'darkgray',\n",
    "         linestyle = 'dashed',\n",
    "         linewidth =2)\n",
    "ax.plot(x, pdf_y,\n",
    "        linewidth = 3)\n",
    "\n",
    "ax.set_title(\"Normal Distribution\")\n",
    "\n",
    "# Change Ticks\n",
    "# Use LaTeX \\mathbf to make ticks bold\n",
    "bolded_ticks = [r'$\\mathbf{'+\"{:.2f}\".format(x)+r\"}$\" for x in ax.get_yticks()]\n",
    "ax.set_yticklabels(bolded_ticks)\n",
    "ax.tick_params(axis ='y',\n",
    "               colors = 'C0',\n",
    "               labelsize = 11)\n",
    "ax2.tick_params(axis ='y',\n",
    "                colors = (.25,.25,.25)) # darker gray\n",
    "#truncate\n",
    "plt.tight_layout()\n",
    "plt.savefig(\"dual-norm.pdf\")\n",
    "plt.show()"
   ]
  },
  {
   "cell_type": "code",
   "execution_count": null,
   "id": "6f579326",
   "metadata": {},
   "outputs": [],
   "source": [
    "savepy('dual-norm')"
   ]
  },
  {
   "cell_type": "code",
   "execution_count": null,
   "id": "fc52f9a1",
   "metadata": {},
   "outputs": [],
   "source": [
    "fig, ax = plt.figure(), plt.axes()\n",
    "ax2 = ax.twiny()\n",
    "\n",
    "# Plot PDF \n",
    "x = np.linspace(-3,3,200)\n",
    "y = stats.norm.pdf(x)\n",
    "ax.plot(x,y)\n",
    "\n",
    "# Set x ticks for bottom x-axis\n",
    "xticks = np.linspace(-2,2,6)\n",
    "ax.set_xticks(xticks)\n",
    "\n",
    "# Get corresponding CDF values for each tick\n",
    "labels2 = list()\n",
    "for tick in xticks:\n",
    "    cumulative = stats.norm.cdf(tick)\n",
    "    labels2.append(round(cumulative,2))\n",
    "    \n",
    "# Add ticks to top x-axis\n",
    "ax2.set_xticks(xticks)\n",
    "ax2.set_xticklabels(labels2, color = 'red')\n",
    "\n",
    "# Clear y ticks\n",
    "ax.set_yticks([])\n",
    "\n",
    "# Set Limits\n",
    "xlims = -3,3\n",
    "ax2.set_xlim(xlims)\n",
    "ax.set_xlim(xlims)\n",
    "\n",
    "# Label and change color\n",
    "ax.set_xlabel(\"Value\")\n",
    "ax2.set_xlabel(\"Percentile\", color = 'red')\n",
    "ax2.spines['top'].set_color('red')\n",
    "ax2.tick_params(axis ='x', colors = 'red')\n",
    "#truncate\n",
    "plt.tight_layout()\n",
    "plt.savefig(\"dual-norm-b.pdf\")\n",
    "plt.show()"
   ]
  },
  {
   "cell_type": "code",
   "execution_count": null,
   "id": "655988e2",
   "metadata": {},
   "outputs": [],
   "source": [
    "savepy(\"dual-norm-b\")"
   ]
  },
  {
   "cell_type": "code",
   "execution_count": null,
   "id": "b7c0f0ad",
   "metadata": {},
   "outputs": [],
   "source": [
    "## multiple plots section"
   ]
  },
  {
   "cell_type": "code",
   "execution_count": null,
   "id": "4d7bc5f3",
   "metadata": {},
   "outputs": [],
   "source": [
    "fig, ax = plt.subplots()\n",
    "ax.set_title(\"Simplest Grid Possible\")\n",
    "#truncate\n",
    "plt.tight_layout()\n",
    "plt.savefig(\"trivial-sub.pdf\")\n",
    "plt.show()"
   ]
  },
  {
   "cell_type": "code",
   "execution_count": null,
   "id": "6d5229ee",
   "metadata": {},
   "outputs": [],
   "source": [
    "savepy('trivial-sub')"
   ]
  },
  {
   "cell_type": "code",
   "execution_count": null,
   "id": "da7e6c22",
   "metadata": {},
   "outputs": [],
   "source": [
    "fig, ax = plt.subplots(1,2)\n",
    "ax[0].set_title(\"1D Array Index 0\")\n",
    "ax[1].set_title(\"1D Array Index 1\")\n",
    "plt.tight_layout()\n",
    "#truncate\n",
    "plt.savefig(\"subplots-1d.pdf\")\n",
    "plt.show()"
   ]
  },
  {
   "cell_type": "code",
   "execution_count": null,
   "id": "1fd98e19",
   "metadata": {},
   "outputs": [],
   "source": [
    "savepy('subplots-1d')"
   ]
  },
  {
   "cell_type": "code",
   "execution_count": null,
   "id": "79800896",
   "metadata": {},
   "outputs": [],
   "source": [
    "fig, ax = plt.subplots(2,1)\n",
    "ax[0].set_title(\"1D Array Index 0\")\n",
    "ax[1].set_title(\"1D Array Index 1\")\n",
    "plt.tight_layout()\n",
    "#truncate\n",
    "plt.savefig(\"subplots-1d-vert.pdf\")\n",
    "plt.show()"
   ]
  },
  {
   "cell_type": "code",
   "execution_count": null,
   "id": "520f312d",
   "metadata": {},
   "outputs": [],
   "source": [
    "savepy('subplots-1d-vert')"
   ]
  },
  {
   "cell_type": "code",
   "execution_count": null,
   "id": "d8ce7799",
   "metadata": {},
   "outputs": [],
   "source": [
    "fig, ax = plt.subplots(2,2)\n",
    "ax[0][0].set_title(\"0, 0\")\n",
    "ax[0][1].set_title(\"0, 1\")\n",
    "ax[1][0].set_title(\"1, 0\")\n",
    "ax[1][1].set_title(\"1, 1\")\n",
    "plt.tight_layout()\n",
    "#truncate\n",
    "plt.savefig(\"subplots-2d.pdf\")\n",
    "plt.show()"
   ]
  },
  {
   "cell_type": "code",
   "execution_count": null,
   "id": "fd1c8900",
   "metadata": {},
   "outputs": [],
   "source": [
    "savepy('subplots-2d')"
   ]
  },
  {
   "cell_type": "code",
   "execution_count": null,
   "id": "9b43b0dc",
   "metadata": {},
   "outputs": [],
   "source": [
    "fig = plt.figure()\n",
    "for i in range(1,7):\n",
    "    ax = fig.add_subplot(2,3,i)\n",
    "    ax.text(0.5, 0.5,\n",
    "            s = str(i),\n",
    "            ha = 'center',\n",
    "            va = 'center',\n",
    "            fontsize = 30)\n",
    "    ax.set_yticks([])\n",
    "    ax.set_xticks([])\n",
    "fig.tight_layout()\n",
    "#truncate\n",
    "plt.savefig(\"add-subplot.pdf\")\n",
    "plt.show()"
   ]
  },
  {
   "cell_type": "code",
   "execution_count": null,
   "id": "9a29cbb0",
   "metadata": {},
   "outputs": [],
   "source": [
    "savepy('add-subplot')"
   ]
  },
  {
   "cell_type": "code",
   "execution_count": null,
   "id": "4610c017",
   "metadata": {},
   "outputs": [],
   "source": [
    "fig = plt.figure(facecolor = 'lightgray')\n",
    "\n",
    "for i in range(1,7):\n",
    "    ax = fig.add_subplot(2,3,i)\n",
    "    ax.text(0.5, 0.5,\n",
    "            s = str(i),\n",
    "            ha = 'center',\n",
    "            va = 'center',\n",
    "            fontsize = 30)\n",
    "    ax.set_yticks([])\n",
    "    ax.set_xticks([])\n",
    "    ax.set_title(\"Title\",\n",
    "                 fontsize = 12, \n",
    "                 fontname = 'Times New Roman')\n",
    "                 \n",
    "fig.suptitle('SupTitle')\n",
    "fig.tight_layout(rect = (0,0,1,1)) # no change\n",
    "#truncate\n",
    "plt.savefig(\"suptitle.pdf\")\n",
    "plt.show()"
   ]
  },
  {
   "cell_type": "code",
   "execution_count": null,
   "id": "329ada75",
   "metadata": {},
   "outputs": [],
   "source": [
    "savepy('suptitle')"
   ]
  },
  {
   "cell_type": "code",
   "execution_count": null,
   "id": "a5f81c7d",
   "metadata": {},
   "outputs": [],
   "source": [
    "fig = plt.figure(figsize = (7,6))\n",
    "\n",
    "# Generate random data\n",
    "n = 100\n",
    "x = np.random.normal(size = n)\n",
    "y = np.random.normal(size = n)\n",
    "# z is determined by x except for one outlier\n",
    "z = np.concatenate([np.array([4]), 1- x[1:]**2])\n",
    "\n",
    "# Add x,y scatter plot\n",
    "ax12 = fig.add_subplot(2,2,(1,2))\n",
    "ax12.scatter(x,y, alpha = 0.5)\n",
    "\n",
    "# Add x,z scatter plot\n",
    "ax3 = fig.add_subplot(2,2,3)\n",
    "ax3.scatter(x,z, alpha = 0.5)\n",
    "\n",
    "# Add y,z scatter plot\n",
    "ax4 = fig.add_subplot(2,2,4)\n",
    "ax4.scatter(y,z, alpha = 0.5)\n",
    "\n",
    "# Draw lines connecting the outlier as it appears in each scatter plot\n",
    "con = ConnectionPatch(\n",
    "        xyA = (x[0], y[0]), \n",
    "        coordsA = ax12.transData,\n",
    "        xyB = (x[0], z[0]),\n",
    "        coordsB = ax3.transData,\n",
    "        arrowstyle = \"<->\",\n",
    "        shrinkA = 2,\n",
    "        shrinkB = 0)\n",
    "fig.add_artist(con)\n",
    "\n",
    "con = ConnectionPatch(\n",
    "        xyA = (x[0],y[0]),\n",
    "        coordsA = ax12.transData,\n",
    "        xyB = (y[0], z[0] ),\n",
    "        coordsB = ax4.transData,\n",
    "        arrowstyle = \"<->\",\n",
    "        shrinkA = 2,\n",
    "        shrinkB = 0)\n",
    "fig.add_artist(con)\n",
    "\n",
    "ax12.set_xlabel(\"$x$\")\n",
    "ax12.set_ylabel(\"$y$\")\n",
    "ax3.set_ylabel(\"$z$\")\n",
    "ax3.set_xlabel(\"$x$\")\n",
    "ax4.set_ylabel(\"$z$\")\n",
    "ax4.set_xlabel(\"$y$\")\n",
    "plt.tight_layout()\n",
    "#truncate\n",
    "plt.savefig(\"connect-path.pdf\")\n",
    "plt.show()"
   ]
  },
  {
   "cell_type": "code",
   "execution_count": null,
   "id": "252593bb",
   "metadata": {},
   "outputs": [],
   "source": [
    "savepy('connect-path')"
   ]
  },
  {
   "cell_type": "code",
   "execution_count": null,
   "id": "b29f9232",
   "metadata": {},
   "outputs": [],
   "source": [
    "fig = plt.figure(figsize=(12,6)) \n",
    "spec = gridspec.GridSpec(ncols=4,\n",
    "                         nrows=2,\n",
    "                         figure=fig)\n",
    "x = np.random.normal(0, 10, size = 300) \n",
    "y = x**2 + np.random.normal(0, 100, size = 300)\n",
    "\n",
    "ax1 = fig.add_subplot(spec[0, 0:3])\n",
    "ax1.plot(x, y,\n",
    "         linestyle='None',\n",
    "         marker='.',\n",
    "         alpha=0.5)\n",
    "\n",
    "ax2 = fig.add_subplot(spec[0, 3:4], sharey = ax1)\n",
    "ax2.hist(y, orientation='horizontal', bins=40)\n",
    "\n",
    "ax3 = fig.add_subplot(spec[1, 0:3], sharex = ax1)\n",
    "ax3.hist(x, bins = 40)\n",
    "ax3.invert_yaxis()\n",
    "plt.tight_layout()\n",
    "#truncate\n",
    "plt.savefig(\"gridspec.pdf\")\n",
    "plt.show()"
   ]
  },
  {
   "cell_type": "code",
   "execution_count": null,
   "id": "d7560cb6",
   "metadata": {},
   "outputs": [],
   "source": [
    "savepy('gridspec')"
   ]
  },
  {
   "cell_type": "code",
   "execution_count": null,
   "id": "ff086b13",
   "metadata": {},
   "outputs": [],
   "source": [
    "# Style config chapter"
   ]
  },
  {
   "cell_type": "code",
   "execution_count": null,
   "id": "b972b94d",
   "metadata": {},
   "outputs": [],
   "source": [
    "x = np.linspace(0,1,2)\n",
    "\n",
    "fig1, ax = plt.figure(), plt.axes()\n",
    "ax.plot(x, x)\n",
    "ax.grid(True)\n",
    "ax.spines['top'].set_visible(False)\n",
    "ax.spines['right'].set_visible(False)\n",
    "plt.show()\n",
    "\n",
    "fig2, ax = plt.figure(), plt.axes()\n",
    "ax.plot(x, 1 - x)\n",
    "ax.grid(True)\n",
    "ax.spines['top'].set_visible(False)\n",
    "ax.spines['right'].set_visible(False)\n",
    "plt.show()"
   ]
  },
  {
   "cell_type": "code",
   "execution_count": null,
   "id": "874586af",
   "metadata": {},
   "outputs": [],
   "source": [
    "savepy('style-manual')"
   ]
  },
  {
   "cell_type": "code",
   "execution_count": null,
   "id": "a5a35393",
   "metadata": {},
   "outputs": [],
   "source": [
    "# Use rcParams\n",
    "mpl.rcParams['axes.grid'] = True\n",
    "mpl.rcParams['axes.spines.top'] = False\n",
    "mpl.rcParams['axes.spines.right'] = False\n",
    "\n",
    "x = np.linspace(0,1,2)\n",
    "plt.plot(x,x)\n",
    "plt.savefig(\"style1.pdf\")\n",
    "plt.show()\n",
    "\n",
    "plt.plot(x, 1-x)\n",
    "plt.savefig(\"style2.pdf\")\n",
    "plt.show()"
   ]
  },
  {
   "cell_type": "code",
   "execution_count": null,
   "id": "e4ce0708",
   "metadata": {},
   "outputs": [],
   "source": [
    "savepy('style-rc')"
   ]
  },
  {
   "cell_type": "code",
   "execution_count": null,
   "id": "d68bc86f",
   "metadata": {},
   "outputs": [],
   "source": [
    "plt.style.use('default') # return to default rcparams"
   ]
  },
  {
   "cell_type": "code",
   "execution_count": null,
   "id": "61d8bd52",
   "metadata": {},
   "outputs": [],
   "source": [
    "tiny_style = \"\"\"axes.spines.left : True\n",
    "axes.spines.right : False\n",
    "axes.spines.bottom : True\n",
    "axes.spines.top : False\n",
    "xtick.labelsize : large\n",
    "font.family : Times\"\"\"\n",
    "\n",
    "savestyle('tiny-style', source = tiny_style)"
   ]
  },
  {
   "cell_type": "code",
   "execution_count": null,
   "id": "57866108",
   "metadata": {},
   "outputs": [],
   "source": [
    "pwd"
   ]
  },
  {
   "cell_type": "code",
   "execution_count": null,
   "id": "b2f67871",
   "metadata": {},
   "outputs": [],
   "source": [
    "plt.style.use('../../stylelib/tiny-style.mplstyle')\n",
    "\n",
    "fig, ax = plt.figure(), plt.axes()\n",
    "x = np.linspace(0,2*np.pi,100)\n",
    "plt.plot(x, np.sin(x))\n",
    "plt.plot(x, np.cos(x))\n",
    "plt.title('Hello')\n",
    "\n",
    "# Inspect the updated rcParams\n",
    "#print(mpl.rcParams)\n",
    "#truncate\n",
    "plt.tight_layout()\n",
    "plt.savefig('tiny-style-ex.pdf')\n",
    "plt.show()"
   ]
  },
  {
   "cell_type": "code",
   "execution_count": null,
   "id": "8b3c13e6",
   "metadata": {},
   "outputs": [],
   "source": [
    "savepy('tiny-style-ex')\n",
    "plt.style.use('default')"
   ]
  },
  {
   "cell_type": "code",
   "execution_count": null,
   "id": "783c1285",
   "metadata": {},
   "outputs": [],
   "source": [
    "import matplotlib as mpl\n",
    "mpl.rcParams['axes.spines.left'] = True\n",
    "mpl.rcParams['axes.spines.right'] = False\n",
    "mpl.rcParams['axes.spines.bottom'] = True\n",
    "mpl.rcParams['axes.spines.top'] = False\n",
    "mpl.rcParams['axes.titlesize'] = 25\n",
    "mpl.rcParams['xtick.labelsize'] = 'large'\n",
    "mpl.rcParams['font.family'] = 'Times'"
   ]
  },
  {
   "cell_type": "code",
   "execution_count": null,
   "id": "cec49716",
   "metadata": {},
   "outputs": [],
   "source": [
    "savepy(\"style-changes\")"
   ]
  },
  {
   "cell_type": "code",
   "execution_count": null,
   "id": "6b5f8371",
   "metadata": {},
   "outputs": [],
   "source": [
    "plt.style.use('default')\n",
    "%run ../../python/style-changes.py\n",
    "\n",
    "x = np.linspace(0,2*np.pi,100)\n",
    "plt.plot(x, np.sin(x))\n",
    "plt.plot(x, np.cos(x))\n",
    "plt.title('Hello')\n",
    "#truncate\n",
    "plt.tight_layout()\n",
    "plt.savefig(\"py-styled.pdf\")\n",
    "plt.show()"
   ]
  },
  {
   "cell_type": "code",
   "execution_count": null,
   "id": "bfc59414",
   "metadata": {},
   "outputs": [],
   "source": [
    "savepy(\"py-styled\")"
   ]
  },
  {
   "cell_type": "code",
   "execution_count": null,
   "id": "dba1c25c",
   "metadata": {},
   "outputs": [],
   "source": [
    "plt.style.use('default')"
   ]
  },
  {
   "cell_type": "code",
   "execution_count": null,
   "id": "3ea9c993",
   "metadata": {},
   "outputs": [],
   "source": [
    "import matplotlib.pyplot as plt \n",
    "\n",
    "plt.gca().spines['left'].set_position('zero')\n",
    "plt.gca().spines['bottom'].set_position('zero')\n",
    "\n",
    "plt.gca().spines['top'].set_visible(False)\n",
    "plt.gca().spines['right'].set_visible(False)\n",
    "#truncate\n",
    "plt.close()"
   ]
  },
  {
   "cell_type": "code",
   "execution_count": null,
   "id": "852b939a",
   "metadata": {},
   "outputs": [],
   "source": [
    "savepy('spine-mod')"
   ]
  },
  {
   "cell_type": "code",
   "execution_count": null,
   "id": "a56fcfcf",
   "metadata": {},
   "outputs": [],
   "source": [
    "x = np.linspace(0,2*np.pi,100)\n",
    "plt.plot(x, np.sin(x))\n",
    "plt.plot(x, np.cos(x))\n",
    "plt.title('Spine Mods')\n",
    "\n",
    "%run ../../python/spine-mod.py\n",
    "#truncate\n",
    "plt.tight_layout()\n",
    "plt.savefig('spine-mod-ex.pdf')"
   ]
  },
  {
   "cell_type": "code",
   "execution_count": null,
   "id": "682fb56c",
   "metadata": {},
   "outputs": [],
   "source": [
    "savepy('spine-mod-ex')"
   ]
  },
  {
   "cell_type": "code",
   "execution_count": null,
   "id": "2ecde5b9",
   "metadata": {},
   "outputs": [],
   "source": [
    "ax.spines['left'].set_position('zero')\n",
    "ax.spines['bottom'].set_position('zero')\n",
    "ax.spines['top'].set_visible(False)\n",
    "ax.spines['right'].set_visible(False)"
   ]
  },
  {
   "cell_type": "code",
   "execution_count": null,
   "id": "4efc06d8",
   "metadata": {},
   "outputs": [],
   "source": [
    "savepy('spine-mod2')"
   ]
  },
  {
   "cell_type": "code",
   "execution_count": null,
   "id": "34140caf",
   "metadata": {
    "scrolled": false
   },
   "outputs": [],
   "source": [
    "x = np.linspace(0, 2*np.pi, 100)\n",
    "fig, ax = plt.figure(), plt.axes()\n",
    "ax.plot(x, np.sin(x))\n",
    "ax.plot(x, np.cos(x))\n",
    "ax.set_title('Spine Mods')\n",
    "%run -i ../../python/spine-mod2.py\n",
    "#truncate\n",
    "plt.tight_layout()\n",
    "plt.savefig('spine-mod2-ex.pdf')"
   ]
  },
  {
   "cell_type": "code",
   "execution_count": null,
   "id": "5acd469e",
   "metadata": {},
   "outputs": [],
   "source": [
    "savepy('spine-mod2-ex')"
   ]
  },
  {
   "cell_type": "code",
   "execution_count": null,
   "id": "d19149da",
   "metadata": {},
   "outputs": [],
   "source": [
    "for ax in fig.axes:\n",
    "    ax.spines['left'].set_position('zero')\n",
    "    ax.spines['bottom'].set_position('zero')\n",
    "    ax.spines['top'].set_visible(False)\n",
    "    ax.spines['right'].set_visible(False)"
   ]
  },
  {
   "cell_type": "code",
   "execution_count": null,
   "id": "a37e65e9",
   "metadata": {},
   "outputs": [],
   "source": [
    "savepy('spine-mod3')"
   ]
  },
  {
   "cell_type": "code",
   "execution_count": null,
   "id": "86a85676",
   "metadata": {},
   "outputs": [],
   "source": [
    "## final example"
   ]
  },
  {
   "cell_type": "code",
   "execution_count": null,
   "id": "67e9f8fe",
   "metadata": {},
   "outputs": [],
   "source": [
    "ig = plt.figure(figsize = (7,6.5)) \n",
    "ax = plt.axes(facecolor = (.94, .94, .96))\n",
    "\n",
    "## Add data and annotations\n",
    "plot_style = dict(marker = 'o', \n",
    "        clip_on = False, # don't clip markers at axes boundary\n",
    "        linewidth = 3,\n",
    "        markersize = 8)\n",
    "right_text_style = dict(ha = 'left', fontsize = 11, \n",
    "                      fontname = 'Helvetica',\n",
    "                      color = (.3,.3,.3),\n",
    "                      va = 'center')\n",
    "left_text_style = dict(ha = 'right',\n",
    "                      fontsize = 12,\n",
    "                      fontweight = 'bold',\n",
    "                      fontname = 'Helvetica')\n",
    "x_vals = [2019,2020]\n",
    "# alone\n",
    "col = 'orange'\n",
    "ax.plot(x_vals, [6,7], \n",
    "        color = col,  \n",
    "        **plot_style)\n",
    "ax.text(2019 - .02, 6, 'Alone', \n",
    "        color = col, \n",
    "        va = 'center',\n",
    "        **left_text_style)\n",
    "ax.text(2020.03, 7, '+57 min.', \n",
    "        **right_text_style)\n",
    "\n",
    "# within household\n",
    "col = 'purple'\n",
    "ax.plot(x_vals, [4.3,2.7], \n",
    "        color = col,  \n",
    "        **plot_style)\n",
    "ax.text(2019 - .02, 4.2, 'With people\\noutside\\nhousehold', \n",
    "        color = col, \n",
    "        va = 'bottom',\n",
    "        **left_text_style)\n",
    "ax.text(2020.03, 2.7, '-1 hour and 33 min.', \n",
    "        **right_text_style)\n",
    "\n",
    "# outside household\n",
    "col = 'darkred'\n",
    "ax.plot(x_vals, [3.9,4.4], color = col,  \n",
    "        **plot_style)\n",
    "ax.text(2019 - .02, 4, 'With\\nhousehold\\nmembers only', color = col, \n",
    "        va = 'top',\n",
    "       **left_text_style)\n",
    "\n",
    "ax.text(2020.03, 4.4, '+31 min.',\n",
    "        **right_text_style)\n",
    "\n",
    "\n",
    "# Label Gridlines\n",
    "text_style = dict(color = (.3,.3,.3), \n",
    "                 va = 'bottom',\n",
    "                 ha = 'center',\n",
    "                 fontname = 'Helvetica',\n",
    "                 fontsize = 11)  \n",
    "\n",
    "ax.text(2019.5, 0.01, \"No Time\", **text_style)\n",
    "for y in [2,4,6,8]:\n",
    "    ax.text(2019.5, y+.04, \"{} hours\".format(y),\n",
    "            **text_style)\n",
    "\n",
    "# Label 2020/2021 for x-axis\n",
    "year_text_style = dict(color = (.3,.3,.3), \n",
    "                 va = 'bottom',\n",
    "                 fontname = 'Helvetica',\n",
    "                 fontsize = 12)  \n",
    "ax.text(2019, 8.05, '2019', \n",
    "                ha = 'left', **year_text_style)\n",
    "ax.text(2020, 8.05, '2020',\n",
    "                ha = 'right', **year_text_style)\n",
    "\n",
    "# set main title\n",
    "ax.set_title(\"A lonely year\", pad = 55, fontweight = 'bold', \n",
    "             fontname = 'Helvetica',\n",
    "            fontsize = 18)\n",
    "\n",
    "# set subtitle\n",
    "s = 'Average time spent per day during waking hours, May through\\nDecember in 2020 vs. 2019'\n",
    "ax.text(2019.5, 8.5, s, **text_style)\n",
    "\n",
    "# x axis\n",
    "ax.set_xticks([])\n",
    "ax.set_xlim(2019,2020)\n",
    "\n",
    "# y axis\n",
    "ax.yaxis.grid(True, color = 'white')\n",
    "ax.set_yticks([0,2,4,6,8])\n",
    "ax.set_yticklabels([])\n",
    "ax.set_ylim([-.02,8])\n",
    "ax.yaxis.set_tick_params(length = 0, grid_linewidth = 2)\n",
    "\n",
    "# spines\n",
    "for i in ['top','left','right']:\n",
    "    ax.spines[i].set_visible(False)\n",
    "ax.spines['bottom'].set_color('darkgray')\n",
    "ax.spines['bottom'].set_linewidth(2)\n",
    "#truncate\n",
    "plt.tight_layout()\n",
    "plt.savefig(\"nyt-rep1.pdf\")"
   ]
  },
  {
   "cell_type": "code",
   "execution_count": null,
   "id": "aed0f711",
   "metadata": {},
   "outputs": [],
   "source": [
    "savepy(\"nyt-rep1\")"
   ]
  },
  {
   "cell_type": "code",
   "execution_count": null,
   "id": "53993d66",
   "metadata": {},
   "outputs": [],
   "source": [
    "s = \"\"\"axes.linewidth: 2\n",
    "axes.facecolor: (.94, .94, .96)\n",
    "axes.grid.axis: y\n",
    "axes.grid: True\n",
    "grid.color: white\n",
    "grid.linewidth: 2\n",
    "axes.spines.bottom: True\n",
    "axes.spines.top: False\n",
    "axes.spines.left: False\n",
    "axes.spines.right: False\n",
    "axes.edgecolor: darkgray\n",
    "xtick.bottom: False\n",
    "xtick.top: False\n",
    "ytick.left: False\n",
    "xtick.labeltop: True\n",
    "xtick.labelbottom : False\n",
    "ytick.labelleft: False\n",
    "xtick.color: (.3,.3,.3)\n",
    "text.color: (.3,.3,.3)\n",
    "font.size: 12\n",
    "lines.marker: o\n",
    "lines.markersize: 8\n",
    "lines.linewidth: 3\n",
    "axes.titlesize: 18\n",
    "axes.titleweight: bold\n",
    "axes.formatter.useoffset: False\"\"\"\n",
    "\n",
    "savestyle('nyt-helper', source = s)"
   ]
  },
  {
   "cell_type": "code",
   "execution_count": null,
   "id": "b965432a",
   "metadata": {},
   "outputs": [],
   "source": [
    "#with plt.style.context(\"../../stylelib/nyt-helper.mplstyle\"):\n",
    "#    plt.plot()"
   ]
  },
  {
   "cell_type": "code",
   "execution_count": null,
   "id": "a5576cf7",
   "metadata": {},
   "outputs": [],
   "source": [
    "def title_and_subtitle(title, subtitle = '', pad = 0.01, fig = None, ax = None):\n",
    "    \"\"\"Add a centered title and subtitle to a plot.\"\"\"\n",
    "    if ax == None:\n",
    "        ax = plt.gca()\n",
    "    if fig == None:\n",
    "        fig = plt.gcf()\n",
    "    fig.canvas.draw()\n",
    "    \n",
    "    top_of_figure = 1 # axes coords\n",
    "    # update if there are xticks on the top \n",
    "    tick0 = ax.get_xticklabels()[0]\n",
    "    top_of_ticklabels = tick0.get_window_extent().transformed(ax.transAxes.inverted()).y1\n",
    "    top_of_figure = max([top_of_ticklabels,top_of_figure])\n",
    "        \n",
    "    # Add subtitle\n",
    "    if subtitle:\n",
    "        subt = ax.text(0.5, top_of_figure + pad,\n",
    "                       s = subtitle, \n",
    "                       ha = 'center',\n",
    "                       va = 'bottom',\n",
    "                       size = '11',\n",
    "                       fontname = 'Helvetica',\n",
    "                       transform = ax.transAxes)\n",
    "        # update top of figure to top of the subtitle\n",
    "        top_of_figure = subt.get_window_extent().transformed(ax.transAxes.inverted()).y1\n",
    "        \n",
    "    # add title\n",
    "    ax.text(0.5, top_of_figure + pad,\n",
    "            s = title, \n",
    "            ha = 'center',\n",
    "            va = 'bottom',\n",
    "            size = '18',\n",
    "            fontname = 'Helvetica',\n",
    "            fontweight = 'bold',\n",
    "            transform = ax.transAxes,\n",
    "            color = 'black')"
   ]
  },
  {
   "cell_type": "code",
   "execution_count": null,
   "id": "8b9f9f00",
   "metadata": {},
   "outputs": [],
   "source": [
    "savepy(\"nyt-helper-function\")"
   ]
  },
  {
   "cell_type": "code",
   "execution_count": null,
   "id": "d13578eb",
   "metadata": {},
   "outputs": [],
   "source": [
    "data = {2019: [6, 4.3, 3.9],\n",
    "        2020: [7, 2.7, 4.4]}\n",
    "df = pd.DataFrame(data = data,\n",
    "                  index = ['Alone', \n",
    "                         'With people outside household', \n",
    "                         'With hosehould members only'])"
   ]
  },
  {
   "cell_type": "code",
   "execution_count": null,
   "id": "95c5670a",
   "metadata": {},
   "outputs": [],
   "source": [
    "savepy(\"nyt-helper-data\")"
   ]
  },
  {
   "cell_type": "code",
   "execution_count": null,
   "id": "2678fe4e",
   "metadata": {},
   "outputs": [],
   "source": [
    "with plt.style.context(\"../../stylelib/nyt-helper.mplstyle\"):\n",
    "    \n",
    "    fig = plt.figure(figsize = (7,6.5)) \n",
    "    ax = plt.axes(facecolor = (.94, .94, .96))\n",
    "\n",
    "    # plot the data\n",
    "    colors = ['orange', 'purple', 'darkred']\n",
    "    df.T.plot(ax = ax, clip_on = False, color = colors)\n",
    "\n",
    "    # annotate lines\n",
    "    right_text_style = dict(ha = 'left', \n",
    "                            fontsize = 11, \n",
    "                            fontname = 'Helvetica',\n",
    "                            va = 'center')\n",
    "    left_text_style = dict(ha = 'right',\n",
    "                      fontsize = 12,\n",
    "                      fontweight = 'bold',\n",
    "                      fontname = 'Helvetica')\n",
    "\n",
    "    # alone\n",
    "    ax.text(2019 - .02, 6, 'Alone', \n",
    "        color = colors[0], \n",
    "        va = 'center',\n",
    "        **left_text_style)\n",
    "    ax.text(2020.03, 7, '+57 min.', \n",
    "        **right_text_style)\n",
    "    \n",
    "    # Within household\n",
    "    ax.text(2019 - .02, 4.2, 'With people\\noutside\\nhousehold', \n",
    "            color = colors[1], \n",
    "            va = 'bottom',\n",
    "            **left_text_style)\n",
    "    ax.text(2020.03, 2.7, '-1 hour and 33 min.',\n",
    "            **right_text_style)\n",
    "\n",
    "    # Outside household\n",
    "    ax.text(2019 - .02, 4, 'With\\nhousehold\\nmembers only', \n",
    "            color = colors[2], \n",
    "            va = 'top',\n",
    "            **left_text_style)\n",
    "    ax.text(2020.03, 4.4, '+31 min.',\n",
    "            **right_text_style)\n",
    "    \n",
    "    \n",
    "    # Title and sub\n",
    "    t = 'A lonely year'\n",
    "    s = 'Average time spent per day during waking hours, May through\\nDecember in 2020 vs. 2019'\n",
    "    title_and_subtitle(t,s, fig = fig, ax = ax, pad = .03)\n",
    "    \n",
    "    # Clean ticks etc   \n",
    "    yticks = range(0,9,2)\n",
    "    ax.set_yticks(yticks)\n",
    "    ax.set_ylim(0,8)\n",
    "    # add custom labels for y ticks\n",
    "    for tick in yticks:\n",
    "        label = \"{} hours\".format(tick)\n",
    "        if tick == 0:\n",
    "            label = 'No Time' # custom label\n",
    "        ax.text(2019.5, tick + .01, label,\n",
    "              va = 'bottom',\n",
    "              ha = 'center')\n",
    "    \n",
    "    # move x-tick labels to horizontally align\n",
    "    ax.legend().set_visible(False)\n",
    "    x_vals = [2019,2020]\n",
    "    ax.set_xticks(x_vals)\n",
    "    ax.set_xlim(x_vals)\n",
    "    xticks = ax.get_xticklabels()\n",
    "    xticks[0].set_ha('left')\n",
    "    xticks[-1].set_ha('right')\n",
    "#truncate\n",
    "plt.tight_layout()\n",
    "plt.savefig(\"nyt-refactor.pdf\")"
   ]
  },
  {
   "cell_type": "code",
   "execution_count": null,
   "id": "7d67b81b",
   "metadata": {},
   "outputs": [],
   "source": [
    "savepy('nyt-refactor')"
   ]
  }
 ],
 "metadata": {
  "kernelspec": {
   "display_name": "Python 3 (ipykernel)",
   "language": "python",
   "name": "python3"
  },
  "language_info": {
   "codemirror_mode": {
    "name": "ipython",
    "version": 3
   },
   "file_extension": ".py",
   "mimetype": "text/x-python",
   "name": "python",
   "nbconvert_exporter": "python",
   "pygments_lexer": "ipython3",
   "version": "3.9.13"
  }
 },
 "nbformat": 4,
 "nbformat_minor": 5
}
