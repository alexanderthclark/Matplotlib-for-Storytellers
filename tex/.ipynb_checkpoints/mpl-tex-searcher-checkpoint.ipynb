{
 "cells": [
  {
   "cell_type": "code",
   "execution_count": 1,
   "id": "51d117fd",
   "metadata": {},
   "outputs": [],
   "source": [
    "# this file just helps me find the references and internal hyperlinks"
   ]
  },
  {
   "cell_type": "code",
   "execution_count": 2,
   "id": "8159cbc6",
   "metadata": {},
   "outputs": [
    {
     "name": "stdout",
     "output_type": "stream",
     "text": [
      "codeTOC.tex            \u001b[34mmath\u001b[m\u001b[m                   \u001b[34mpoetry\u001b[m\u001b[m\r\n",
      "copyright.tex          mpl-tex-searcher.ipynb \u001b[34mpreface\u001b[m\u001b[m\r\n",
      "customcolors.sty       mplbib.bib             \u001b[34mprose\u001b[m\u001b[m\r\n",
      "ghostcites.tex         mplstyle.sty           \u001b[34mspecial\u001b[m\u001b[m\r\n",
      "kdp.cls                mycommands.sty\r\n"
     ]
    }
   ],
   "source": [
    "!ls"
   ]
  },
  {
   "cell_type": "code",
   "execution_count": 4,
   "id": "a96f90dd",
   "metadata": {},
   "outputs": [
    {
     "name": "stdout",
     "output_type": "stream",
     "text": [
      "   XX  /codeTOC.tex\n",
      "   XX  /copyright.tex\n",
      "   XX  /ghostcites.tex\n",
      "math/math.tex\n",
      "   XX  poetry/calendar.tex\n",
      "   XX  poetry/dag.tex\n",
      "   XX  poetry/heat.tex\n",
      "   XX  poetry/poetryArtist.tex\n",
      "   XX  poetry/poetrychap.tex\n",
      "   XX  poetry/speedometer.tex\n",
      "   XX  preface/resourcesinsp.tex\n",
      "   XX  preface/techandprereq.tex\n",
      "   XX  preface/textorg.tex\n",
      "   XX  preface/whympl.tex\n",
      "   XX  preface/writingorwell.tex\n",
      "   XX  prose/colors.tex\n",
      "   XX  prose/dates.tex\n",
      "   XX  prose/elements.tex\n",
      "   XX  prose/multi.tex\n",
      "   XX  prose/oop.tex\n",
      "   XX  prose/styconfig.tex\n",
      "   XX  prose/ticks.tex\n",
      "prose/titles.tex\n",
      "   XX  special/MDS.tex\n",
      "   XX  special/stats.tex\n",
      "   XX  special/ternary.tex\n"
     ]
    }
   ],
   "source": [
    "string1, string2 = r'{chapter:colors}', r'00asdfhasdf00000'\n",
    "\n",
    "for d in ['', 'math', 'poetry', 'preface', 'prose', 'special']:\n",
    "    \n",
    "    files = !ls $d\n",
    "    files = [x for x in files if x.endswith(\".tex\")]\n",
    "    for f in files:\n",
    "        \n",
    "        e = d + '/' if d else d\n",
    "        with open(e + f) as tf:\n",
    "            doc = tf.read()\n",
    "            \n",
    "            if (string1 in doc) or (string2 in doc):\n",
    "                print(e + f)\n",
    "            else:\n",
    "                print('   XX  ' + d + '/' + f)\n"
   ]
  },
  {
   "cell_type": "code",
   "execution_count": null,
   "id": "21c79e15",
   "metadata": {},
   "outputs": [],
   "source": []
  }
 ],
 "metadata": {
  "kernelspec": {
   "display_name": "Python 3 (ipykernel)",
   "language": "python",
   "name": "python3"
  },
  "language_info": {
   "codemirror_mode": {
    "name": "ipython",
    "version": 3
   },
   "file_extension": ".py",
   "mimetype": "text/x-python",
   "name": "python",
   "nbconvert_exporter": "python",
   "pygments_lexer": "ipython3",
   "version": "3.9.13"
  }
 },
 "nbformat": 4,
 "nbformat_minor": 5
}
